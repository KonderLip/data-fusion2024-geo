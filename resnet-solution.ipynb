{
 "cells": [
  {
   "cell_type": "markdown",
   "id": "e062465f",
   "metadata": {},
   "source": [
    "# Libraries"
   ]
  },
  {
   "cell_type": "code",
   "execution_count": 1,
   "id": "18ecfe2b",
   "metadata": {},
   "outputs": [],
   "source": [
    "%matplotlib inline\n",
    "%config InlineBackend.figure_format = 'retina'"
   ]
  },
  {
   "cell_type": "code",
   "execution_count": 2,
   "id": "6074eef7",
   "metadata": {},
   "outputs": [],
   "source": [
    "import matplotlib.pyplot as plt\n",
    "import seaborn as sns\n",
    "\n",
    "plt.rcParams['font.size'] = 16\n",
    "sns.set(style='whitegrid', palette='deep')"
   ]
  },
  {
   "cell_type": "code",
   "execution_count": 3,
   "id": "6bf356cc",
   "metadata": {},
   "outputs": [],
   "source": [
    "import h3\n",
    "from sklearn.model_selection import train_test_split"
   ]
  },
  {
   "cell_type": "code",
   "execution_count": 4,
   "id": "5eb2376c",
   "metadata": {
    "id": "5eb2376c"
   },
   "outputs": [],
   "source": [
    "import numpy as np\n",
    "import polars as pl\n",
    "\n",
    "pl.set_random_seed(56)"
   ]
  },
  {
   "cell_type": "code",
   "execution_count": 5,
   "id": "694051ff",
   "metadata": {},
   "outputs": [
    {
     "name": "stderr",
     "output_type": "stream",
     "text": [
      "Global seed set to 56\n"
     ]
    },
    {
     "data": {
      "text/plain": [
       "56"
      ]
     },
     "execution_count": 5,
     "metadata": {},
     "output_type": "execute_result"
    }
   ],
   "source": [
    "import torch\n",
    "from torch import nn\n",
    "import pytorch_lightning\n",
    "from transformers import ResNetConfig, ResNetModel, get_linear_schedule_with_warmup\n",
    "\n",
    "pytorch_lightning.seed_everything(56, workers=True)"
   ]
  },
  {
   "cell_type": "markdown",
   "id": "cf4f9191",
   "metadata": {
    "id": "d0edb301"
   },
   "source": [
    "# Data"
   ]
  },
  {
   "cell_type": "markdown",
   "id": "5abecc0d",
   "metadata": {},
   "source": [
    "Рекомедную вместо `Pandas` использовать библиотеку `Polars`, так как она мультипоточная $\\Rightarrow$ быстрее."
   ]
  },
  {
   "cell_type": "markdown",
   "id": "36289587",
   "metadata": {},
   "source": [
    "### Load"
   ]
  },
  {
   "cell_type": "code",
   "execution_count": 6,
   "id": "65e5fe86",
   "metadata": {
    "id": "65e5fe86"
   },
   "outputs": [],
   "source": [
    "with open(\"./data/hexses_target.lst\", \"r\") as f:\n",
    "    hexses_target = [x.strip() for x in f.readlines()]"
   ]
  },
  {
   "cell_type": "code",
   "execution_count": 7,
   "id": "1fea5fe7",
   "metadata": {
    "id": "1fea5fe7"
   },
   "outputs": [],
   "source": [
    "with open(\"./data/hexses_data.lst\", \"r\") as f:\n",
    "    hexses_data = [x.strip() for x in f.readlines()]"
   ]
  },
  {
   "cell_type": "code",
   "execution_count": 8,
   "id": "f1c8c6a2",
   "metadata": {
    "colab": {
     "base_uri": "https://localhost:8080/",
     "height": 882
    },
    "id": "f1c8c6a2",
    "outputId": "7acc1c89-1854-4759-fe20-ae5fc7f45c56"
   },
   "outputs": [
    {
     "data": {
      "text/html": [
       "<div><style>\n",
       ".dataframe > thead > tr > th,\n",
       ".dataframe > tbody > tr > td {\n",
       "  text-align: right;\n",
       "  white-space: pre-wrap;\n",
       "}\n",
       "</style>\n",
       "<small>shape: (4_151_096, 11)</small><table border=\"1\" class=\"dataframe\"><thead><tr><th>h3_09</th><th>customer_id</th><th>datetime_id</th><th>count</th><th>sum</th><th>avg</th><th>min</th><th>max</th><th>std</th><th>count_distinct</th><th>mcc_code</th></tr><tr><td>str</td><td>i64</td><td>i64</td><td>i64</td><td>f64</td><td>f64</td><td>f64</td><td>f64</td><td>f64</td><td>i64</td><td>i64</td></tr></thead><tbody><tr><td>&quot;8911aa4c62ffff…</td><td>1</td><td>3</td><td>1</td><td>3346.65</td><td>3346.65</td><td>3346.65</td><td>3346.65</td><td>0.0</td><td>1</td><td>13</td></tr><tr><td>&quot;8911aa7b5b3fff…</td><td>4</td><td>3</td><td>1</td><td>450.0</td><td>450.0</td><td>450.0</td><td>450.0</td><td>0.0</td><td>1</td><td>8</td></tr><tr><td>&quot;8911aa63623fff…</td><td>5</td><td>3</td><td>10</td><td>11035.69</td><td>1103.569</td><td>59.0</td><td>3620.18</td><td>1190.530333</td><td>6</td><td>13</td></tr><tr><td>&quot;8911aa48577fff…</td><td>9</td><td>2</td><td>2</td><td>628.0</td><td>314.0</td><td>295.0</td><td>333.0</td><td>26.870058</td><td>2</td><td>5</td></tr><tr><td>&quot;8911aa78297fff…</td><td>11</td><td>2</td><td>1</td><td>4155.0</td><td>4155.0</td><td>4155.0</td><td>4155.0</td><td>0.0</td><td>1</td><td>10</td></tr><tr><td>&quot;8911aa78dc7fff…</td><td>12</td><td>2</td><td>2</td><td>94.0</td><td>47.0</td><td>47.0</td><td>47.0</td><td>0.0</td><td>2</td><td>9</td></tr><tr><td>&quot;8911aa4ec93fff…</td><td>13</td><td>3</td><td>25</td><td>9089.44</td><td>363.5776</td><td>176.99</td><td>707.96</td><td>162.457572</td><td>2</td><td>0</td></tr><tr><td>&quot;8911aa6a4c3fff…</td><td>15</td><td>1</td><td>10</td><td>1400.0</td><td>140.0</td><td>140.0</td><td>140.0</td><td>0.0</td><td>1</td><td>8</td></tr><tr><td>&quot;891181b6507fff…</td><td>16</td><td>2</td><td>1</td><td>10998.0</td><td>10998.0</td><td>10998.0</td><td>10998.0</td><td>0.0</td><td>1</td><td>10</td></tr><tr><td>&quot;8911aa7ab0ffff…</td><td>17</td><td>2</td><td>2</td><td>2760.0</td><td>1380.0</td><td>1380.0</td><td>1380.0</td><td>0.0</td><td>2</td><td>8</td></tr><tr><td>&quot;8911aa711d7fff…</td><td>18</td><td>2</td><td>2</td><td>407.09</td><td>203.545</td><td>198.29</td><td>208.8</td><td>7.431692</td><td>1</td><td>13</td></tr><tr><td>&quot;8911aa6b437fff…</td><td>19</td><td>2</td><td>5</td><td>1514.22</td><td>302.844</td><td>29.99</td><td>654.63</td><td>234.188385</td><td>4</td><td>13</td></tr><tr><td>&hellip;</td><td>&hellip;</td><td>&hellip;</td><td>&hellip;</td><td>&hellip;</td><td>&hellip;</td><td>&hellip;</td><td>&hellip;</td><td>&hellip;</td><td>&hellip;</td><td>&hellip;</td></tr><tr><td>&quot;8911aa7abd3fff…</td><td>66269</td><td>2</td><td>1</td><td>1430.0</td><td>1430.0</td><td>1430.0</td><td>1430.0</td><td>0.0</td><td>1</td><td>8</td></tr><tr><td>&quot;8911aa7abd3fff…</td><td>40892</td><td>2</td><td>1</td><td>277.78</td><td>277.78</td><td>277.78</td><td>277.78</td><td>0.0</td><td>1</td><td>0</td></tr><tr><td>&quot;8911aa7abd3fff…</td><td>67581</td><td>1</td><td>3</td><td>1960.0</td><td>653.333333</td><td>420.0</td><td>870.0</td><td>225.462488</td><td>1</td><td>2</td></tr><tr><td>&quot;8911aa7abd3fff…</td><td>55726</td><td>3</td><td>2</td><td>165.0</td><td>82.5</td><td>70.0</td><td>95.0</td><td>17.67767</td><td>1</td><td>13</td></tr><tr><td>&quot;8911aa7abd3fff…</td><td>41136</td><td>3</td><td>2</td><td>212.0</td><td>106.0</td><td>96.0</td><td>116.0</td><td>14.142136</td><td>1</td><td>13</td></tr><tr><td>&quot;8911aa7abd3fff…</td><td>47486</td><td>1</td><td>2</td><td>3703.6</td><td>1851.8</td><td>1553.54</td><td>2150.06</td><td>421.803337</td><td>1</td><td>13</td></tr><tr><td>&quot;8911aa790a3fff…</td><td>6170</td><td>3</td><td>1</td><td>271.95</td><td>271.95</td><td>271.95</td><td>271.95</td><td>0.0</td><td>1</td><td>13</td></tr><tr><td>&quot;8911aa6216bfff…</td><td>50600</td><td>2</td><td>1</td><td>4820.0</td><td>4820.0</td><td>4820.0</td><td>4820.0</td><td>0.0</td><td>1</td><td>0</td></tr><tr><td>&quot;891181b6423fff…</td><td>23168</td><td>1</td><td>1</td><td>70.0</td><td>70.0</td><td>70.0</td><td>70.0</td><td>0.0</td><td>1</td><td>13</td></tr><tr><td>&quot;8911aa7ab83fff…</td><td>62835</td><td>1</td><td>1</td><td>400.0</td><td>400.0</td><td>400.0</td><td>400.0</td><td>0.0</td><td>1</td><td>8</td></tr><tr><td>&quot;8911aa01dc7fff…</td><td>71229</td><td>1</td><td>1</td><td>6797.0</td><td>6797.0</td><td>6797.0</td><td>6797.0</td><td>0.0</td><td>1</td><td>5</td></tr><tr><td>&quot;8911aa6304ffff…</td><td>1985</td><td>3</td><td>1</td><td>490.0</td><td>490.0</td><td>490.0</td><td>490.0</td><td>0.0</td><td>1</td><td>8</td></tr></tbody></table></div>"
      ],
      "text/plain": [
       "shape: (4_151_096, 11)\n",
       "┌─────────────┬────────────┬────────────┬───────┬───┬─────────┬────────────┬────────────┬──────────┐\n",
       "│ h3_09       ┆ customer_i ┆ datetime_i ┆ count ┆ … ┆ max     ┆ std        ┆ count_dist ┆ mcc_code │\n",
       "│ ---         ┆ d          ┆ d          ┆ ---   ┆   ┆ ---     ┆ ---        ┆ inct       ┆ ---      │\n",
       "│ str         ┆ ---        ┆ ---        ┆ i64   ┆   ┆ f64     ┆ f64        ┆ ---        ┆ i64      │\n",
       "│             ┆ i64        ┆ i64        ┆       ┆   ┆         ┆            ┆ i64        ┆          │\n",
       "╞═════════════╪════════════╪════════════╪═══════╪═══╪═════════╪════════════╪════════════╪══════════╡\n",
       "│ 8911aa4c62f ┆ 1          ┆ 3          ┆ 1     ┆ … ┆ 3346.65 ┆ 0.0        ┆ 1          ┆ 13       │\n",
       "│ ffff        ┆            ┆            ┆       ┆   ┆         ┆            ┆            ┆          │\n",
       "│ 8911aa7b5b3 ┆ 4          ┆ 3          ┆ 1     ┆ … ┆ 450.0   ┆ 0.0        ┆ 1          ┆ 8        │\n",
       "│ ffff        ┆            ┆            ┆       ┆   ┆         ┆            ┆            ┆          │\n",
       "│ 8911aa63623 ┆ 5          ┆ 3          ┆ 10    ┆ … ┆ 3620.18 ┆ 1190.53033 ┆ 6          ┆ 13       │\n",
       "│ ffff        ┆            ┆            ┆       ┆   ┆         ┆ 3          ┆            ┆          │\n",
       "│ 8911aa48577 ┆ 9          ┆ 2          ┆ 2     ┆ … ┆ 333.0   ┆ 26.870058  ┆ 2          ┆ 5        │\n",
       "│ ffff        ┆            ┆            ┆       ┆   ┆         ┆            ┆            ┆          │\n",
       "│ …           ┆ …          ┆ …          ┆ …     ┆ … ┆ …       ┆ …          ┆ …          ┆ …        │\n",
       "│ 891181b6423 ┆ 23168      ┆ 1          ┆ 1     ┆ … ┆ 70.0    ┆ 0.0        ┆ 1          ┆ 13       │\n",
       "│ ffff        ┆            ┆            ┆       ┆   ┆         ┆            ┆            ┆          │\n",
       "│ 8911aa7ab83 ┆ 62835      ┆ 1          ┆ 1     ┆ … ┆ 400.0   ┆ 0.0        ┆ 1          ┆ 8        │\n",
       "│ ffff        ┆            ┆            ┆       ┆   ┆         ┆            ┆            ┆          │\n",
       "│ 8911aa01dc7 ┆ 71229      ┆ 1          ┆ 1     ┆ … ┆ 6797.0  ┆ 0.0        ┆ 1          ┆ 5        │\n",
       "│ ffff        ┆            ┆            ┆       ┆   ┆         ┆            ┆            ┆          │\n",
       "│ 8911aa6304f ┆ 1985       ┆ 3          ┆ 1     ┆ … ┆ 490.0   ┆ 0.0        ┆ 1          ┆ 8        │\n",
       "│ ffff        ┆            ┆            ┆       ┆   ┆         ┆            ┆            ┆          │\n",
       "└─────────────┴────────────┴────────────┴───────┴───┴─────────┴────────────┴────────────┴──────────┘"
      ]
     },
     "execution_count": 8,
     "metadata": {},
     "output_type": "execute_result"
    }
   ],
   "source": [
    "transactions = pl.read_parquet(\"./data/transactions.parquet\")\n",
    "transactions = transactions.with_columns(\n",
    "    std=pl.when(pl.col(\"count\") >= 2).then(pl.col(\"std\")).otherwise(0)\n",
    ")\n",
    "transactions"
   ]
  },
  {
   "cell_type": "code",
   "execution_count": 9,
   "id": "99146b7a",
   "metadata": {
    "colab": {
     "base_uri": "https://localhost:8080/",
     "height": 882
    },
    "id": "99146b7a",
    "outputId": "7d422e66-2879-417b-efd2-c9342410eaef"
   },
   "outputs": [
    {
     "data": {
      "text/html": [
       "<div><style>\n",
       ".dataframe > thead > tr > th,\n",
       ".dataframe > tbody > tr > td {\n",
       "  text-align: right;\n",
       "  white-space: pre-wrap;\n",
       "}\n",
       "</style>\n",
       "<small>shape: (157_806, 2)</small><table border=\"1\" class=\"dataframe\"><thead><tr><th>h3_09</th><th>customer_id</th></tr><tr><td>str</td><td>i64</td></tr></thead><tbody><tr><td>&quot;8911aa6ac3bfff…</td><td>23172</td></tr><tr><td>&quot;8911aa7a857fff…</td><td>95640</td></tr><tr><td>&quot;8911aa70b97fff…</td><td>60350</td></tr><tr><td>&quot;8911aa70b97fff…</td><td>69521</td></tr><tr><td>&quot;891181b69abfff…</td><td>29437</td></tr><tr><td>&quot;8911aa44c2bfff…</td><td>24811</td></tr><tr><td>&quot;8911aa44c2bfff…</td><td>2641</td></tr><tr><td>&quot;8911aa44c2bfff…</td><td>67199</td></tr><tr><td>&quot;8911aa44c2bfff…</td><td>22852</td></tr><tr><td>&quot;8911aa7a823fff…</td><td>51411</td></tr><tr><td>&quot;8911aa7564ffff…</td><td>58975</td></tr><tr><td>&quot;8911aa7832bfff…</td><td>18276</td></tr><tr><td>&hellip;</td><td>&hellip;</td></tr><tr><td>&quot;8911aa7a8abfff…</td><td>41514</td></tr><tr><td>&quot;8911aa7a8abfff…</td><td>80297</td></tr><tr><td>&quot;8911aa781bbfff…</td><td>48600</td></tr><tr><td>&quot;8911aa781bbfff…</td><td>19465</td></tr><tr><td>&quot;8911aa7aa4ffff…</td><td>19761</td></tr><tr><td>&quot;8911aa44a87fff…</td><td>32727</td></tr><tr><td>&quot;8911aa61cc7fff…</td><td>49405</td></tr><tr><td>&quot;8911aa61cc7fff…</td><td>73888</td></tr><tr><td>&quot;8911aa4ecaffff…</td><td>81775</td></tr><tr><td>&quot;8911aa4ecaffff…</td><td>38508</td></tr><tr><td>&quot;8911aa63657fff…</td><td>14794</td></tr><tr><td>&quot;8911aa7adabfff…</td><td>17123</td></tr></tbody></table></div>"
      ],
      "text/plain": [
       "shape: (157_806, 2)\n",
       "┌─────────────────┬─────────────┐\n",
       "│ h3_09           ┆ customer_id │\n",
       "│ ---             ┆ ---         │\n",
       "│ str             ┆ i64         │\n",
       "╞═════════════════╪═════════════╡\n",
       "│ 8911aa6ac3bffff ┆ 23172       │\n",
       "│ 8911aa7a857ffff ┆ 95640       │\n",
       "│ 8911aa70b97ffff ┆ 60350       │\n",
       "│ 8911aa70b97ffff ┆ 69521       │\n",
       "│ …               ┆ …           │\n",
       "│ 8911aa4ecafffff ┆ 81775       │\n",
       "│ 8911aa4ecafffff ┆ 38508       │\n",
       "│ 8911aa63657ffff ┆ 14794       │\n",
       "│ 8911aa7adabffff ┆ 17123       │\n",
       "└─────────────────┴─────────────┘"
      ]
     },
     "execution_count": 9,
     "metadata": {},
     "output_type": "execute_result"
    }
   ],
   "source": [
    "target = pl.read_parquet(\"./data/target.parquet\")\n",
    "target"
   ]
  },
  {
   "cell_type": "markdown",
   "id": "dd6121d8",
   "metadata": {
    "id": "2e7ce65f"
   },
   "source": [
    "### Split"
   ]
  },
  {
   "cell_type": "code",
   "execution_count": 10,
   "id": "56995cbf",
   "metadata": {
    "colab": {
     "base_uri": "https://localhost:8080/"
    },
    "id": "56995cbf",
    "outputId": "08752dc7-f6bc-41b9-866d-88a7f7d25e59"
   },
   "outputs": [
    {
     "name": "stdout",
     "output_type": "stream",
     "text": [
      "48535 20802\n",
      "110442 47364\n"
     ]
    }
   ],
   "source": [
    "ids = sorted(target[\"customer_id\"].unique())\n",
    "train_ids, val_ids = train_test_split(ids, train_size=0.7, random_state=56)\n",
    "print(len(train_ids), len(val_ids))\n",
    "train_target = target.filter(pl.col(\"customer_id\").is_in(train_ids))\n",
    "val_target = target.filter(pl.col(\"customer_id\").is_in(val_ids))\n",
    "print(len(train_target), len(val_target))"
   ]
  },
  {
   "cell_type": "markdown",
   "id": "3a2316f2",
   "metadata": {
    "id": "adhSWnCfnQk8"
   },
   "source": [
    "# Model"
   ]
  },
  {
   "cell_type": "markdown",
   "id": "d02fdd20",
   "metadata": {},
   "source": [
    "Будем подавать в модель матрицу с признаками, характеризующими транзакции в конкретной точке. Нужно перевести вещественные координаты на карте в целые индексы. Для этого придется их сжать, разделив на коэффициент, зависящий от итогового размера. После такого преобразования некоторые хексы склеятся (впрочем, различных координат слишком много, без объединения, будет проблематично вместить такую матрицу в видеопамять)"
   ]
  },
  {
   "cell_type": "markdown",
   "id": "7bb470ef",
   "metadata": {},
   "source": [
    "### Config"
   ]
  },
  {
   "cell_type": "code",
   "execution_count": 11,
   "id": "c40a0d04",
   "metadata": {
    "id": "c40a0d04"
   },
   "outputs": [],
   "source": [
    "min_lat, max_lat = 55.1719, 56.0185\n",
    "min_lon, max_lon = 36.8340, 37.9599\n",
    "map_size = 128\n",
    "lat_scale = (max_lat - min_lat) / (map_size - 1)\n",
    "lon_scale = (max_lon - min_lon) / (map_size - 1)\n",
    "\n",
    "num_workers = 0 # для Windows"
   ]
  },
  {
   "cell_type": "markdown",
   "id": "43758e52",
   "metadata": {},
   "source": [
    "### Prepare"
   ]
  },
  {
   "cell_type": "code",
   "execution_count": 12,
   "id": "da7adbf6",
   "metadata": {
    "id": "da7adbf6"
   },
   "outputs": [],
   "source": [
    "# кодируем все хексы\n",
    "items = sorted(set(hexses_target) | set(hexses_data))\n",
    "item2id = {}\n",
    "for item in items:\n",
    "    item2id[item] = len(item2id)"
   ]
  },
  {
   "cell_type": "code",
   "execution_count": 13,
   "id": "26acbc3a",
   "metadata": {
    "id": "26acbc3a"
   },
   "outputs": [],
   "source": [
    "items_target = [item2id[item] for item in hexses_target]"
   ]
  },
  {
   "cell_type": "code",
   "execution_count": 14,
   "id": "52I_Ptb55QyX",
   "metadata": {
    "id": "52I_Ptb55QyX"
   },
   "outputs": [],
   "source": [
    "# получаем индексы (i, j) для матрицы\n",
    "xs, ys = [], []\n",
    "for item in items:\n",
    "    lat, lon = h3.h3_to_geo(item)\n",
    "    xs.append(round((lat - min_lat) / lat_scale))\n",
    "    ys.append(round((lon - min_lon) / lon_scale))\n",
    "assert np.max(xs) < map_size\n",
    "assert np.max(ys) < map_size"
   ]
  },
  {
   "cell_type": "markdown",
   "id": "a2f797b1",
   "metadata": {},
   "source": [
    "### Dataset"
   ]
  },
  {
   "cell_type": "code",
   "execution_count": 15,
   "id": "14a3a774",
   "metadata": {
    "id": "14a3a774"
   },
   "outputs": [],
   "source": [
    "class GeoDataset(torch.utils.data.Dataset):\n",
    "    def __init__(self, pos_pairs, transactions):\n",
    "        super().__init__()\n",
    "\n",
    "        pos_pairs = pos_pairs.with_columns(pl.col(\"h3_09\").map_dict(item2id, default=None))\n",
    "        transactions = transactions.with_columns(pl.col(\"h3_09\").map_dict(item2id, default=None))\n",
    "\n",
    "        self._data = (\n",
    "            transactions\n",
    "            .filter(pl.col(\"customer_id\").is_in(pos_pairs[\"customer_id\"]))\n",
    "            .group_by(\"customer_id\", maintain_order=True)\n",
    "            .agg(\n",
    "                items=pl.col(\"h3_09\"),\n",
    "                counts=pl.col(\"count\"),\n",
    "            )\n",
    "            .join(pos_pairs.group_by(\"customer_id\").agg(labels=pl.col(\"h3_09\")), on=\"customer_id\", how=\"left\")\n",
    "        )\n",
    "\n",
    "    def __len__(self):\n",
    "        return len(self._data)\n",
    "\n",
    "    def __getitem__(self, index):\n",
    "        row = self._data.row(index)\n",
    "        items = row[1]\n",
    "        counts = row[2]\n",
    "        labels = row[-1]\n",
    "\n",
    "        pixel_values = torch.zeros((map_size, map_size, 3)).float()\n",
    "        # 0: индикатор или \"bias\"\n",
    "        # 1: количество групп из транзакций\n",
    "        # 2: количество совершенных операций\n",
    "        for i, item in enumerate(items):\n",
    "            pixel_values[xs[item]][ys[item]][0] = 1.0\n",
    "            pixel_values[xs[item]][ys[item]][1] += 1.0\n",
    "            pixel_values[xs[item]][ys[item]][2] += counts[i]\n",
    "        # прологарифмируем, так как некоторые пользователи совершают слишком много операций\n",
    "        pixel_values[:, :, 2] = torch.log1p(pixel_values[:, :, 2])\n",
    "\n",
    "        labels = torch.tensor(np.isin(items_target, labels, assume_unique=True, invert=False)).float()\n",
    "        \n",
    "        return pixel_values, labels"
   ]
  },
  {
   "cell_type": "code",
   "execution_count": 16,
   "id": "06ab065a",
   "metadata": {
    "colab": {
     "base_uri": "https://localhost:8080/"
    },
    "id": "06ab065a",
    "outputId": "96c7737e-c7ae-446d-f4d9-ca4d85be8705"
   },
   "outputs": [],
   "source": [
    "train_dataset = GeoDataset(train_target, transactions)"
   ]
  },
  {
   "cell_type": "code",
   "execution_count": 17,
   "id": "9570f21f",
   "metadata": {
    "colab": {
     "base_uri": "https://localhost:8080/"
    },
    "id": "9570f21f",
    "outputId": "3a190d8c-5901-4450-f283-21250ecef341"
   },
   "outputs": [],
   "source": [
    "val_dataset = GeoDataset(val_target, transactions)"
   ]
  },
  {
   "cell_type": "markdown",
   "id": "f56a45a0",
   "metadata": {},
   "source": [
    "### Visualization"
   ]
  },
  {
   "cell_type": "markdown",
   "id": "96db83b5",
   "metadata": {},
   "source": [
    "Посмотрим на матрицу для одного из пользователей, видно в каких точках было больше транзакций"
   ]
  },
  {
   "cell_type": "code",
   "execution_count": 18,
   "id": "789de95a",
   "metadata": {},
   "outputs": [
    {
     "data": {
      "image/png": "[encoded data removed]",
      "text/plain": [
       "<Figure size 864x864 with 1 Axes>"
      ]
     },
     "metadata": {
      "image/png": {
       "height": 690,
       "width": 703
      }
     },
     "output_type": "display_data"
    }
   ],
   "source": [
    "pixel_values = train_dataset[0][0]\n",
    "\n",
    "plt.figure(figsize=(12, 12))\n",
    "plt.imshow(-pixel_values[:, :, 2], cmap=\"gray\")\n",
    "plt.xlim(20, 100)\n",
    "plt.ylim(20, 100)\n",
    "plt.show()"
   ]
  },
  {
   "cell_type": "markdown",
   "id": "136e1490",
   "metadata": {
    "id": "OLc4abU7K5k1"
   },
   "source": [
    "### Dataloaders"
   ]
  },
  {
   "cell_type": "code",
   "execution_count": 19,
   "id": "318f8aa2",
   "metadata": {
    "id": "318f8aa2"
   },
   "outputs": [],
   "source": [
    "train_dataloader = torch.utils.data.DataLoader(\n",
    "    dataset=train_dataset,\n",
    "    batch_size=64,\n",
    "    num_workers=num_workers,\n",
    "    drop_last=True,\n",
    "    shuffle=True,\n",
    "    pin_memory=True,\n",
    ")"
   ]
  },
  {
   "cell_type": "code",
   "execution_count": 20,
   "id": "a23f4ad9",
   "metadata": {
    "id": "a23f4ad9"
   },
   "outputs": [],
   "source": [
    "val_dataloader = torch.utils.data.DataLoader(\n",
    "    dataset=val_dataset,\n",
    "    batch_size=64,\n",
    "    num_workers=num_workers,\n",
    "    drop_last=False,\n",
    "    shuffle=False,\n",
    "    pin_memory=True,\n",
    ")"
   ]
  },
  {
   "cell_type": "markdown",
   "id": "cfd36999",
   "metadata": {
    "id": "52fe8ce1"
   },
   "source": [
    "### NN architecture"
   ]
  },
  {
   "cell_type": "markdown",
   "id": "3f0e9f9a",
   "metadata": {},
   "source": [
    "Архитектура состоит из трёх частей. В качестве модели компьютерного зрения возьмём ResNet. Обычно перед подачей изображения в сеть, его нормализуют. Не очень понятно, как это лучше сделать в данном случае, поэтому пусть модель сама учится препроцессингу (хочется, чтобы нули переходили в нули, поэтому `bias=False`). В конце классификатор на каждую локацию из target. Так как позитивных взаимодействий может быть больше одного, используем `Sigmoid`. Удобно, что в качестве функции потерь можно использовать метрику"
   ]
  },
  {
   "cell_type": "code",
   "execution_count": 21,
   "id": "d2e261c9",
   "metadata": {
    "id": "d2e261c9"
   },
   "outputs": [],
   "source": [
    "class GeoModel(pytorch_lightning.LightningModule):\n",
    "    def __init__(self, train_dataloader, val_dataloader):\n",
    "        super().__init__()\n",
    "\n",
    "        self._train_dataloader = train_dataloader\n",
    "        self._val_dataloader = val_dataloader\n",
    "\n",
    "        self.preprocess = nn.Sequential(\n",
    "            nn.Linear(3, 12, False),\n",
    "            nn.ReLU(),\n",
    "            nn.Linear(12, 12, False),\n",
    "            nn.ReLU(),\n",
    "            nn.Linear(12, 3, False),\n",
    "        )\n",
    "        config = ResNetConfig(\n",
    "            num_channels=3,\n",
    "            embedding_size=64,\n",
    "            hidden_sizes=[128, 256, 512, 1024],\n",
    "            depths=[2, 2, 2, 2],\n",
    "            layer_type='bottleneck',\n",
    "            hidden_act='relu',\n",
    "        )\n",
    "        self.resnet = ResNetModel(config)\n",
    "        self.classifier = nn.Sequential(\n",
    "            nn.Flatten(),\n",
    "            nn.Linear(config.hidden_sizes[-1], len(items_target)),\n",
    "            nn.Sigmoid(),\n",
    "        )\n",
    "\n",
    "    def forward(self, x):\n",
    "        x = self.preprocess(x)\n",
    "        output = self.resnet(x.permute(0, 3, 1, 2))\n",
    "        return self.classifier(output.pooler_output)\n",
    "\n",
    "    def training_step(self, batch, batch_idx):\n",
    "        pixel_values, labels = batch\n",
    "\n",
    "        prediction_scores = self.forward(pixel_values)\n",
    "\n",
    "        eps = 1e-8\n",
    "        loss = torch.log(torch.clip(prediction_scores, eps, 1 - eps)) * labels\n",
    "        loss += torch.log(torch.clip(1 - prediction_scores, eps, 1 - eps)) * (1 - labels)\n",
    "        loss *= -1.0\n",
    "        loss = loss.sum(dim=1).mean()\n",
    "\n",
    "        self.log(\"train_loss\", loss, logger=True, on_epoch=True, prog_bar=True)\n",
    "        return loss\n",
    "\n",
    "    def validation_step(self, batch, batch_idx):\n",
    "        pixel_values, labels = batch\n",
    "\n",
    "        prediction_scores = self.forward(pixel_values)\n",
    "\n",
    "        eps = 1e-8\n",
    "        loss = torch.log(torch.clip(prediction_scores, eps, 1 - eps)) * labels\n",
    "        loss += torch.log(torch.clip(1 - prediction_scores, eps, 1 - eps)) * (1 - labels)\n",
    "        loss *= -1.0\n",
    "        loss = loss.sum(dim=1).mean()\n",
    "\n",
    "        self.log(\"val_loss\", loss, logger=True, on_epoch=True, prog_bar=True)\n",
    "        return loss\n",
    "\n",
    "    def configure_optimizers(self):\n",
    "        optim = torch.optim.AdamW(self.parameters(), lr=2e-3)\n",
    "        scheduler = get_linear_schedule_with_warmup(\n",
    "            optim, num_warmup_steps=0, num_training_steps=20 * len(self._train_dataloader)\n",
    "        )\n",
    "        return {\n",
    "            \"optimizer\": optim,\n",
    "            \"lr_scheduler\": {\n",
    "                \"scheduler\": scheduler,\n",
    "                \"interval\": \"step\",\n",
    "                \"frequency\": 1,\n",
    "                \"strict\": True,\n",
    "            }\n",
    "        }\n",
    "\n",
    "    def train_dataloader(self):\n",
    "        return self._train_dataloader\n",
    "\n",
    "    def val_dataloader(self):\n",
    "        return self._val_dataloader"
   ]
  },
  {
   "cell_type": "code",
   "execution_count": 22,
   "id": "7ef94aa8",
   "metadata": {
    "id": "7ef94aa8"
   },
   "outputs": [],
   "source": [
    "geo_model = GeoModel(train_dataloader, val_dataloader)"
   ]
  },
  {
   "cell_type": "code",
   "execution_count": 23,
   "id": "5eb1d4d8",
   "metadata": {
    "colab": {
     "base_uri": "https://localhost:8080/"
    },
    "id": "5eb1d4d8",
    "outputId": "0e92f6fc-4fd2-48d8-d6c9-f0275bc2f25c"
   },
   "outputs": [
    {
     "name": "stdout",
     "output_type": "stream",
     "text": [
      "GeoModel(\n",
      "  (preprocess): Sequential(\n",
      "    (0): Linear(in_features=3, out_features=12, bias=False)\n",
      "    (1): ReLU()\n",
      "    (2): Linear(in_features=12, out_features=12, bias=False)\n",
      "    (3): ReLU()\n",
      "    (4): Linear(in_features=12, out_features=3, bias=False)\n",
      "  )\n",
      "  (resnet): ResNetModel(\n",
      "    (embedder): ResNetEmbeddings(\n",
      "      (embedder): ResNetConvLayer(\n",
      "        (convolution): Conv2d(3, 64, kernel_size=(7, 7), stride=(2, 2), padding=(3, 3), bias=False)\n",
      "        (normalization): BatchNorm2d(64, eps=1e-05, momentum=0.1, affine=True, track_running_stats=True)\n",
      "        (activation): ReLU()\n",
      "      )\n",
      "      (pooler): MaxPool2d(kernel_size=3, stride=2, padding=1, dilation=1, ceil_mode=False)\n",
      "    )\n",
      "    (encoder): ResNetEncoder(\n",
      "      (stages): ModuleList(\n",
      "        (0): ResNetStage(\n",
      "          (layers): Sequential(\n",
      "            (0): ResNetBottleNeckLayer(\n",
      "              (shortcut): ResNetShortCut(\n",
      "                (convolution): Conv2d(64, 128, kernel_size=(1, 1), stride=(1, 1), bias=False)\n",
      "                (normalization): BatchNorm2d(128, eps=1e-05, momentum=0.1, affine=True, track_running_stats=True)\n",
      "              )\n",
      "              (layer): Sequential(\n",
      "                (0): ResNetConvLayer(\n",
      "                  (convolution): Conv2d(64, 32, kernel_size=(1, 1), stride=(1, 1), bias=False)\n",
      "                  (normalization): BatchNorm2d(32, eps=1e-05, momentum=0.1, affine=True, track_running_stats=True)\n",
      "                  (activation): ReLU()\n",
      "                )\n",
      "                (1): ResNetConvLayer(\n",
      "                  (convolution): Conv2d(32, 32, kernel_size=(3, 3), stride=(1, 1), padding=(1, 1), bias=False)\n",
      "                  (normalization): BatchNorm2d(32, eps=1e-05, momentum=0.1, affine=True, track_running_stats=True)\n",
      "                  (activation): ReLU()\n",
      "                )\n",
      "                (2): ResNetConvLayer(\n",
      "                  (convolution): Conv2d(32, 128, kernel_size=(1, 1), stride=(1, 1), bias=False)\n",
      "                  (normalization): BatchNorm2d(128, eps=1e-05, momentum=0.1, affine=True, track_running_stats=True)\n",
      "                  (activation): Identity()\n",
      "                )\n",
      "              )\n",
      "              (activation): ReLU()\n",
      "            )\n",
      "            (1): ResNetBottleNeckLayer(\n",
      "              (shortcut): Identity()\n",
      "              (layer): Sequential(\n",
      "                (0): ResNetConvLayer(\n",
      "                  (convolution): Conv2d(128, 32, kernel_size=(1, 1), stride=(1, 1), bias=False)\n",
      "                  (normalization): BatchNorm2d(32, eps=1e-05, momentum=0.1, affine=True, track_running_stats=True)\n",
      "                  (activation): ReLU()\n",
      "                )\n",
      "                (1): ResNetConvLayer(\n",
      "                  (convolution): Conv2d(32, 32, kernel_size=(3, 3), stride=(1, 1), padding=(1, 1), bias=False)\n",
      "                  (normalization): BatchNorm2d(32, eps=1e-05, momentum=0.1, affine=True, track_running_stats=True)\n",
      "                  (activation): ReLU()\n",
      "                )\n",
      "                (2): ResNetConvLayer(\n",
      "                  (convolution): Conv2d(32, 128, kernel_size=(1, 1), stride=(1, 1), bias=False)\n",
      "                  (normalization): BatchNorm2d(128, eps=1e-05, momentum=0.1, affine=True, track_running_stats=True)\n",
      "                  (activation): Identity()\n",
      "                )\n",
      "              )\n",
      "              (activation): ReLU()\n",
      "            )\n",
      "          )\n",
      "        )\n",
      "        (1): ResNetStage(\n",
      "          (layers): Sequential(\n",
      "            (0): ResNetBottleNeckLayer(\n",
      "              (shortcut): ResNetShortCut(\n",
      "                (convolution): Conv2d(128, 256, kernel_size=(1, 1), stride=(2, 2), bias=False)\n",
      "                (normalization): BatchNorm2d(256, eps=1e-05, momentum=0.1, affine=True, track_running_stats=True)\n",
      "              )\n",
      "              (layer): Sequential(\n",
      "                (0): ResNetConvLayer(\n",
      "                  (convolution): Conv2d(128, 64, kernel_size=(1, 1), stride=(1, 1), bias=False)\n",
      "                  (normalization): BatchNorm2d(64, eps=1e-05, momentum=0.1, affine=True, track_running_stats=True)\n",
      "                  (activation): ReLU()\n",
      "                )\n",
      "                (1): ResNetConvLayer(\n",
      "                  (convolution): Conv2d(64, 64, kernel_size=(3, 3), stride=(2, 2), padding=(1, 1), bias=False)\n",
      "                  (normalization): BatchNorm2d(64, eps=1e-05, momentum=0.1, affine=True, track_running_stats=True)\n",
      "                  (activation): ReLU()\n",
      "                )\n",
      "                (2): ResNetConvLayer(\n",
      "                  (convolution): Conv2d(64, 256, kernel_size=(1, 1), stride=(1, 1), bias=False)\n",
      "                  (normalization): BatchNorm2d(256, eps=1e-05, momentum=0.1, affine=True, track_running_stats=True)\n",
      "                  (activation): Identity()\n",
      "                )\n",
      "              )\n",
      "              (activation): ReLU()\n",
      "            )\n",
      "            (1): ResNetBottleNeckLayer(\n",
      "              (shortcut): Identity()\n",
      "              (layer): Sequential(\n",
      "                (0): ResNetConvLayer(\n",
      "                  (convolution): Conv2d(256, 64, kernel_size=(1, 1), stride=(1, 1), bias=False)\n",
      "                  (normalization): BatchNorm2d(64, eps=1e-05, momentum=0.1, affine=True, track_running_stats=True)\n",
      "                  (activation): ReLU()\n",
      "                )\n",
      "                (1): ResNetConvLayer(\n",
      "                  (convolution): Conv2d(64, 64, kernel_size=(3, 3), stride=(1, 1), padding=(1, 1), bias=False)\n",
      "                  (normalization): BatchNorm2d(64, eps=1e-05, momentum=0.1, affine=True, track_running_stats=True)\n",
      "                  (activation): ReLU()\n",
      "                )\n",
      "                (2): ResNetConvLayer(\n",
      "                  (convolution): Conv2d(64, 256, kernel_size=(1, 1), stride=(1, 1), bias=False)\n",
      "                  (normalization): BatchNorm2d(256, eps=1e-05, momentum=0.1, affine=True, track_running_stats=True)\n",
      "                  (activation): Identity()\n",
      "                )\n",
      "              )\n",
      "              (activation): ReLU()\n",
      "            )\n",
      "          )\n",
      "        )\n",
      "        (2): ResNetStage(\n",
      "          (layers): Sequential(\n",
      "            (0): ResNetBottleNeckLayer(\n",
      "              (shortcut): ResNetShortCut(\n",
      "                (convolution): Conv2d(256, 512, kernel_size=(1, 1), stride=(2, 2), bias=False)\n",
      "                (normalization): BatchNorm2d(512, eps=1e-05, momentum=0.1, affine=True, track_running_stats=True)\n",
      "              )\n",
      "              (layer): Sequential(\n",
      "                (0): ResNetConvLayer(\n",
      "                  (convolution): Conv2d(256, 128, kernel_size=(1, 1), stride=(1, 1), bias=False)\n",
      "                  (normalization): BatchNorm2d(128, eps=1e-05, momentum=0.1, affine=True, track_running_stats=True)\n",
      "                  (activation): ReLU()\n",
      "                )\n",
      "                (1): ResNetConvLayer(\n",
      "                  (convolution): Conv2d(128, 128, kernel_size=(3, 3), stride=(2, 2), padding=(1, 1), bias=False)\n",
      "                  (normalization): BatchNorm2d(128, eps=1e-05, momentum=0.1, affine=True, track_running_stats=True)\n",
      "                  (activation): ReLU()\n",
      "                )\n",
      "                (2): ResNetConvLayer(\n",
      "                  (convolution): Conv2d(128, 512, kernel_size=(1, 1), stride=(1, 1), bias=False)\n",
      "                  (normalization): BatchNorm2d(512, eps=1e-05, momentum=0.1, affine=True, track_running_stats=True)\n",
      "                  (activation): Identity()\n",
      "                )\n",
      "              )\n",
      "              (activation): ReLU()\n",
      "            )\n",
      "            (1): ResNetBottleNeckLayer(\n",
      "              (shortcut): Identity()\n",
      "              (layer): Sequential(\n",
      "                (0): ResNetConvLayer(\n",
      "                  (convolution): Conv2d(512, 128, kernel_size=(1, 1), stride=(1, 1), bias=False)\n",
      "                  (normalization): BatchNorm2d(128, eps=1e-05, momentum=0.1, affine=True, track_running_stats=True)\n",
      "                  (activation): ReLU()\n",
      "                )\n",
      "                (1): ResNetConvLayer(\n",
      "                  (convolution): Conv2d(128, 128, kernel_size=(3, 3), stride=(1, 1), padding=(1, 1), bias=False)\n",
      "                  (normalization): BatchNorm2d(128, eps=1e-05, momentum=0.1, affine=True, track_running_stats=True)\n",
      "                  (activation): ReLU()\n",
      "                )\n",
      "                (2): ResNetConvLayer(\n",
      "                  (convolution): Conv2d(128, 512, kernel_size=(1, 1), stride=(1, 1), bias=False)\n",
      "                  (normalization): BatchNorm2d(512, eps=1e-05, momentum=0.1, affine=True, track_running_stats=True)\n",
      "                  (activation): Identity()\n",
      "                )\n",
      "              )\n",
      "              (activation): ReLU()\n",
      "            )\n",
      "          )\n",
      "        )\n",
      "        (3): ResNetStage(\n",
      "          (layers): Sequential(\n",
      "            (0): ResNetBottleNeckLayer(\n",
      "              (shortcut): ResNetShortCut(\n",
      "                (convolution): Conv2d(512, 1024, kernel_size=(1, 1), stride=(2, 2), bias=False)\n",
      "                (normalization): BatchNorm2d(1024, eps=1e-05, momentum=0.1, affine=True, track_running_stats=True)\n",
      "              )\n",
      "              (layer): Sequential(\n",
      "                (0): ResNetConvLayer(\n",
      "                  (convolution): Conv2d(512, 256, kernel_size=(1, 1), stride=(1, 1), bias=False)\n",
      "                  (normalization): BatchNorm2d(256, eps=1e-05, momentum=0.1, affine=True, track_running_stats=True)\n",
      "                  (activation): ReLU()\n",
      "                )\n",
      "                (1): ResNetConvLayer(\n",
      "                  (convolution): Conv2d(256, 256, kernel_size=(3, 3), stride=(2, 2), padding=(1, 1), bias=False)\n",
      "                  (normalization): BatchNorm2d(256, eps=1e-05, momentum=0.1, affine=True, track_running_stats=True)\n",
      "                  (activation): ReLU()\n",
      "                )\n",
      "                (2): ResNetConvLayer(\n",
      "                  (convolution): Conv2d(256, 1024, kernel_size=(1, 1), stride=(1, 1), bias=False)\n",
      "                  (normalization): BatchNorm2d(1024, eps=1e-05, momentum=0.1, affine=True, track_running_stats=True)\n",
      "                  (activation): Identity()\n",
      "                )\n",
      "              )\n",
      "              (activation): ReLU()\n",
      "            )\n",
      "            (1): ResNetBottleNeckLayer(\n",
      "              (shortcut): Identity()\n",
      "              (layer): Sequential(\n",
      "                (0): ResNetConvLayer(\n",
      "                  (convolution): Conv2d(1024, 256, kernel_size=(1, 1), stride=(1, 1), bias=False)\n",
      "                  (normalization): BatchNorm2d(256, eps=1e-05, momentum=0.1, affine=True, track_running_stats=True)\n",
      "                  (activation): ReLU()\n",
      "                )\n",
      "                (1): ResNetConvLayer(\n",
      "                  (convolution): Conv2d(256, 256, kernel_size=(3, 3), stride=(1, 1), padding=(1, 1), bias=False)\n",
      "                  (normalization): BatchNorm2d(256, eps=1e-05, momentum=0.1, affine=True, track_running_stats=True)\n",
      "                  (activation): ReLU()\n",
      "                )\n",
      "                (2): ResNetConvLayer(\n",
      "                  (convolution): Conv2d(256, 1024, kernel_size=(1, 1), stride=(1, 1), bias=False)\n",
      "                  (normalization): BatchNorm2d(1024, eps=1e-05, momentum=0.1, affine=True, track_running_stats=True)\n",
      "                  (activation): Identity()\n",
      "                )\n",
      "              )\n",
      "              (activation): ReLU()\n",
      "            )\n",
      "          )\n",
      "        )\n",
      "      )\n",
      "    )\n",
      "    (pooler): AdaptiveAvgPool2d(output_size=(1, 1))\n",
      "  )\n",
      "  (classifier): Sequential(\n",
      "    (0): Flatten(start_dim=1, end_dim=-1)\n",
      "    (1): Linear(in_features=1024, out_features=1657, bias=True)\n",
      "    (2): Sigmoid()\n",
      "  )\n",
      ")\n"
     ]
    }
   ],
   "source": [
    "print(geo_model) # 5,205,137 параметров"
   ]
  },
  {
   "cell_type": "markdown",
   "id": "746d60f4",
   "metadata": {
    "id": "70b128e1"
   },
   "source": [
    "### Fit"
   ]
  },
  {
   "cell_type": "code",
   "execution_count": 24,
   "id": "d92b2997",
   "metadata": {
    "colab": {
     "base_uri": "https://localhost:8080/",
     "height": 399,
     "referenced_widgets": [
      "1aecf0f953194c0697c0d10eedfe9781",
      "858a09d60e4d494ebaa533e6fd5eed60",
      "c5b4a2f16ce84315aca0123ad8127a0d",
      "c2227afc0a6c4b2dad553a7521c66916",
      "4df5cacdb68746a08566f71b1b503ae0",
      "ef429a30c7fd421693152a4a524cb403",
      "b8d8f698239f45188a0f1c39d4a285c7",
      "5668ef5c42184729861576b23065c078",
      "8cd01807e5d744b39e405070aa03b258",
      "3384e90c34334eb79be5da27f87b197b",
      "2dcd36114da64eefb967af8ec5dab02d",
      "34e790697fbb42089c9f5486a4cdc2b0",
      "b38c88bcecf7491c94c86411c4a95b4e",
      "5519b260efa44ec29480f90f6c69be37",
      "3450d9a87bab44c6806c45908d5f910b",
      "e2194e34f6f9420d8e8d51d268c67374",
      "dde09e0b19cb4bb18d65d0d355c4032f",
      "b6a93edadba34745b58ffa070183ad63",
      "d1edf83229da46b8812367ac6a6a7051",
      "ef4d8fa634454360b78d14b2f6a62ad9",
      "df6b79c9b2a044ce9e52a422bf261231",
      "630aeadefc3e446dbeed09de3c029d5e",
      "1df69fb2fd724185803e91308a72a2d2",
      "394161b352c443399c9f33b53fcc94e3",
      "ec4f4e893ef341ae8d0514acac22a337",
      "7d6bac38f5b24435a4598f638a623f7c",
      "fff7cee81f23442698dccd71f7f14499",
      "ab1d74cca1864f1ca354c945a450ba00",
      "21348081dab84310a32ef0e2b096b6b4",
      "084b0ec5237d4717a958e5d40d10690f",
      "0770a853f7714450bdc5d53b723b2127",
      "139e83939d4b472c931806d617a7fe51",
      "6e3944ed1ec546d48501712c2a555cfb",
      "6fdadbbcf7c34e658e9105c98cc8335f",
      "6247d3041ec14548965a7799cc493844",
      "814d35d6b61d49df9b37650e974bf062",
      "a9d5575e413d4ff5ae7eaf36a1382b77",
      "07852e5484ab43f6b7a107eedcfde93d",
      "48c473235f474a2eaf222350ef20a205",
      "6b63327ffc834fbb955e9e5cc48ca4c2",
      "7ec2612201114f8f9e743fe27e5f4069",
      "1c4a52caee36494fba558b4e5e6e7a2b",
      "bf0cca56a1314888985d93653123a747",
      "a02f823fd66644df922112a94530ccca",
      "5c213730d2e64eae96709cf6737792a1",
      "7d86cded45c34dd9a49e2a3fd2ceb8b9",
      "4589020748c24e038e0ced419bd4fc0e",
      "eaa3bfc39fc448eb8cf1e69d4d691862",
      "e9942159215e439fa2c2dc6f8d72281e",
      "29c3befad4bf4e08a2039050feb7884b",
      "b706bec7df4c4491a92023d893fcd1f0",
      "da4ce0ea79e341af89e894116fa29dff",
      "be87aee1d68e47dba9c0549c6fb63185",
      "df646c41984c498885f47ca46189c17f",
      "a687cba2f6364ff1b29f2e80ae968214",
      "76ea10471115460fb78699746ea33f0b",
      "7ede88d8dc5c456986f9c02bc599eb0f",
      "d53dd52e9ed34179b69d328e22cda719",
      "7c2806ffa06c470885ec2aac021ad20e",
      "46bf04af42b84d298b9bf2d8cbbe156f",
      "02a6334846f0489b8103ecc7ea55f82b",
      "44f5290d93834237b9cddf9be0cd21e6",
      "adf5a9a52c644c999542928935207b98",
      "e2478d2a03454349957febe94ce171d5",
      "e8cc5bd4981b4f6484692bc5a0750214",
      "09dec28ece8744aeacc7719b962bc02f",
      "c077488dcd8844ba9fea0eca55d60c18",
      "f98d1f06714e45e89b7f29e41ef167c2",
      "049299d72f824bb785adc7b561efe919",
      "c506d6ca188b46d1a2855e08b74b0a06",
      "ad5b83e6c35544a4b36065a296bedbef",
      "6bc72fe4675447388491db3566a54f77",
      "ad2946d24d8b433595409499674b3cd8",
      "2cd8610f8a7e48a0a154674923c7fae4",
      "1aa939bab4eb4b139a84dd1584607e27",
      "3b68228961a04c84a45d1afd08f809f9",
      "190abbfd1b164bd2b95d384faef827de"
     ]
    },
    "id": "d92b2997",
    "outputId": "f4e26a9b-bb97-488b-9878-248be9c96ca6",
    "scrolled": false
   },
   "outputs": [
    {
     "data": {
      "application/vnd.jupyter.widget-view+json": {
       "model_id": "",
       "version_major": 2,
       "version_minor": 0
      },
      "text/plain": [
       "Sanity Checking: 0it [00:00, ?it/s]"
      ]
     },
     "metadata": {},
     "output_type": "display_data"
    },
    {
     "data": {
      "application/vnd.jupyter.widget-view+json": {
       "model_id": "deed824f90ea484e8686ba648992a024",
       "version_major": 2,
       "version_minor": 0
      },
      "text/plain": [
       "Training: 0it [00:00, ?it/s]"
      ]
     },
     "metadata": {},
     "output_type": "display_data"
    },
    {
     "data": {
      "application/vnd.jupyter.widget-view+json": {
       "model_id": "",
       "version_major": 2,
       "version_minor": 0
      },
      "text/plain": [
       "Validation: 0it [00:00, ?it/s]"
      ]
     },
     "metadata": {},
     "output_type": "display_data"
    },
    {
     "data": {
      "application/vnd.jupyter.widget-view+json": {
       "model_id": "",
       "version_major": 2,
       "version_minor": 0
      },
      "text/plain": [
       "Validation: 0it [00:00, ?it/s]"
      ]
     },
     "metadata": {},
     "output_type": "display_data"
    },
    {
     "data": {
      "application/vnd.jupyter.widget-view+json": {
       "model_id": "",
       "version_major": 2,
       "version_minor": 0
      },
      "text/plain": [
       "Validation: 0it [00:00, ?it/s]"
      ]
     },
     "metadata": {},
     "output_type": "display_data"
    },
    {
     "data": {
      "application/vnd.jupyter.widget-view+json": {
       "model_id": "",
       "version_major": 2,
       "version_minor": 0
      },
      "text/plain": [
       "Validation: 0it [00:00, ?it/s]"
      ]
     },
     "metadata": {},
     "output_type": "display_data"
    },
    {
     "data": {
      "application/vnd.jupyter.widget-view+json": {
       "model_id": "",
       "version_major": 2,
       "version_minor": 0
      },
      "text/plain": [
       "Validation: 0it [00:00, ?it/s]"
      ]
     },
     "metadata": {},
     "output_type": "display_data"
    },
    {
     "data": {
      "application/vnd.jupyter.widget-view+json": {
       "model_id": "",
       "version_major": 2,
       "version_minor": 0
      },
      "text/plain": [
       "Validation: 0it [00:00, ?it/s]"
      ]
     },
     "metadata": {},
     "output_type": "display_data"
    }
   ],
   "source": [
    "trainer = pytorch_lightning.Trainer(\n",
    "    accelerator=\"gpu\",\n",
    "    max_epochs=6, # обучаем 6 эпох, дальше начинается overfit\n",
    ")\n",
    "trainer.fit(geo_model)"
   ]
  },
  {
   "cell_type": "markdown",
   "id": "19ddb688",
   "metadata": {},
   "source": [
    "### Save"
   ]
  },
  {
   "cell_type": "markdown",
   "id": "2fad484d",
   "metadata": {},
   "source": [
    "Сохраним веса и необходимые для инференса значения"
   ]
  },
  {
   "cell_type": "code",
   "execution_count": 25,
   "id": "2e32cb77",
   "metadata": {},
   "outputs": [],
   "source": [
    "trainer.save_checkpoint('./submission/model.ckpt')\n",
    "np.save(\"./submission/item2id.npy\", item2id)\n",
    "np.save(\"./submission/items_target.npy\", items_target)\n",
    "np.save(\"./submission/xs.npy\", xs)\n",
    "np.save(\"./submission/ys.npy\", ys)"
   ]
  }
 ],
 "metadata": {
  "accelerator": "GPU",
  "colab": {
   "gpuType": "T4",
   "provenance": []
  },
  "finalized": {
   "timestamp": 1709258932886,
   "trusted": false
  },
  "kernelspec": {
   "display_name": "Python 3 (ipykernel)",
   "language": "python",
   "name": "python3"
  },
  "language_info": {
   "codemirror_mode": {
    "name": "ipython",
    "version": 3
   },
   "file_extension": ".py",
   "mimetype": "text/x-python",
   "name": "python",
   "nbconvert_exporter": "python",
   "pygments_lexer": "ipython3",
   "version": "3.8.13"
  },
  "widgets": {
   "application/vnd.jupyter.widget-state+json": {
    "state": {
     "00d9c32a654449998ccd9469be924f11": {
      "model_module": "@jupyter-widgets/controls",
      "model_module_version": "1.5.0",
      "model_name": "HTMLModel",
      "state": {
       "layout": "IPY_MODEL_75ff749982e74f53b97be1213c322cea",
       "style": "IPY_MODEL_6e38eae6565f43a59b9ca224dc4b310c",
       "value": " 326/326 [01:13&lt;00:00,  4.41it/s]"
      }
     },
     "027866d6243546b2b06f8c30f3226c46": {
      "model_module": "@jupyter-widgets/controls",
      "model_module_version": "1.5.0",
      "model_name": "HTMLModel",
      "state": {
       "layout": "IPY_MODEL_c8dc378fd02645518c67cd73bb17b41e",
       "style": "IPY_MODEL_66c9faae0dec465c9522f5dd2fad75ac",
       "value": "Validation DataLoader 0: 100%"
      }
     },
     "036437b4a496474398901cecb688fa98": {
      "model_module": "@jupyter-widgets/controls",
      "model_module_version": "1.5.0",
      "model_name": "HBoxModel",
      "state": {
       "children": [
        "IPY_MODEL_8fbbb54b6bd945908d3d13102ddb0a44",
        "IPY_MODEL_c5277611712d41179ac204e5ff8cac8c",
        "IPY_MODEL_a95575d776df43cebcde2f0c65ed6df1"
       ],
       "layout": "IPY_MODEL_ecd91858d7bc4ace88719050d6d8eed2"
      }
     },
     "043d85efa63b4a77a3bba1ceed29c0f1": {
      "model_module": "@jupyter-widgets/base",
      "model_module_version": "1.2.0",
      "model_name": "LayoutModel",
      "state": {
       "display": "inline-flex",
       "flex_flow": "row wrap",
       "visibility": "hidden",
       "width": "100%"
      }
     },
     "045c1be16ad94973becd07b5969bb4ca": {
      "model_module": "@jupyter-widgets/base",
      "model_module_version": "1.2.0",
      "model_name": "LayoutModel",
      "state": {
       "display": "inline-flex",
       "flex_flow": "row wrap",
       "visibility": "hidden",
       "width": "100%"
      }
     },
     "055c9c2e1018417ab114840466bd1c11": {
      "model_module": "@jupyter-widgets/controls",
      "model_module_version": "1.5.0",
      "model_name": "DescriptionStyleModel",
      "state": {
       "description_width": ""
      }
     },
     "062062068d6744fbaf5e3f65478695f4": {
      "model_module": "@jupyter-widgets/base",
      "model_module_version": "1.2.0",
      "model_name": "LayoutModel",
      "state": {}
     },
     "06eec409427548bd996c664c44aecedf": {
      "model_module": "@jupyter-widgets/base",
      "model_module_version": "1.2.0",
      "model_name": "LayoutModel",
      "state": {
       "flex": "2"
      }
     },
     "07455a7b0dac424f9bd5ccba345cf4b7": {
      "model_module": "@jupyter-widgets/base",
      "model_module_version": "1.2.0",
      "model_name": "LayoutModel",
      "state": {
       "display": "inline-flex",
       "flex_flow": "row wrap",
       "visibility": "hidden",
       "width": "100%"
      }
     },
     "07462a5c092b45199760713b3a63606b": {
      "model_module": "@jupyter-widgets/base",
      "model_module_version": "1.2.0",
      "model_name": "LayoutModel",
      "state": {
       "flex": "2"
      }
     },
     "08222ca8fb9f43ccb9121d5a7c0df1ac": {
      "model_module": "@jupyter-widgets/base",
      "model_module_version": "1.2.0",
      "model_name": "LayoutModel",
      "state": {
       "display": "inline-flex",
       "flex_flow": "row wrap",
       "visibility": "hidden",
       "width": "100%"
      }
     },
     "08bf9f161b56453a80f071d82441d42c": {
      "model_module": "@jupyter-widgets/base",
      "model_module_version": "1.2.0",
      "model_name": "LayoutModel",
      "state": {}
     },
     "0972ec31082e4702b8e98ee75d5b3bdc": {
      "model_module": "@jupyter-widgets/controls",
      "model_module_version": "1.5.0",
      "model_name": "FloatProgressModel",
      "state": {
       "layout": "IPY_MODEL_e3400627a1bf4d51b4d46b6d356ba5f5",
       "max": 326,
       "style": "IPY_MODEL_6fbce3f6b005448fa4af55d73481839a",
       "value": 326
      }
     },
     "0ba07a80f96e40f2958a35a1c104a68e": {
      "model_module": "@jupyter-widgets/controls",
      "model_module_version": "1.5.0",
      "model_name": "HTMLModel",
      "state": {
       "layout": "IPY_MODEL_b1d876ff50854cbf8a2c64d98104a840",
       "style": "IPY_MODEL_0fdd0a625896401ba8f36464ae5261ed",
       "value": " 326/326 [01:13&lt;00:00,  4.45it/s]"
      }
     },
     "0c46d616a096446a9f5b96ab8a3ce5a2": {
      "model_module": "@jupyter-widgets/controls",
      "model_module_version": "1.5.0",
      "model_name": "ProgressStyleModel",
      "state": {
       "description_width": ""
      }
     },
     "0fdd0a625896401ba8f36464ae5261ed": {
      "model_module": "@jupyter-widgets/controls",
      "model_module_version": "1.5.0",
      "model_name": "DescriptionStyleModel",
      "state": {
       "description_width": ""
      }
     },
     "1044fd5c20e741fdaa4b4821aa059028": {
      "model_module": "@jupyter-widgets/base",
      "model_module_version": "1.2.0",
      "model_name": "LayoutModel",
      "state": {}
     },
     "1190b70b7eb5408f968dc57c496c2d42": {
      "model_module": "@jupyter-widgets/base",
      "model_module_version": "1.2.0",
      "model_name": "LayoutModel",
      "state": {}
     },
     "15b86757edd14074907f97941fb64aa3": {
      "model_module": "@jupyter-widgets/base",
      "model_module_version": "1.2.0",
      "model_name": "LayoutModel",
      "state": {}
     },
     "15c4519c775143d2aaf6e67327982b94": {
      "model_module": "@jupyter-widgets/controls",
      "model_module_version": "1.5.0",
      "model_name": "HTMLModel",
      "state": {
       "layout": "IPY_MODEL_1190b70b7eb5408f968dc57c496c2d42",
       "style": "IPY_MODEL_a2d1db11efbd4a7cbba9ca4d73a331c1",
       "value": "Validation DataLoader 0: 100%"
      }
     },
     "1751b58fbff44867aac98a03358e2d96": {
      "model_module": "@jupyter-widgets/base",
      "model_module_version": "1.2.0",
      "model_name": "LayoutModel",
      "state": {
       "display": "inline-flex",
       "flex_flow": "row wrap",
       "visibility": "hidden",
       "width": "100%"
      }
     },
     "189c6caa5f5f4a9698203da971bda69b": {
      "model_module": "@jupyter-widgets/controls",
      "model_module_version": "1.5.0",
      "model_name": "HTMLModel",
      "state": {
       "layout": "IPY_MODEL_ff4fe303b0724b7c8a59b6ee298213f2",
       "style": "IPY_MODEL_bfee58d0fbef439c86e9524d4cd282e8",
       "value": " 326/326 [01:13&lt;00:00,  4.44it/s]"
      }
     },
     "193e98656bf84b38abea26c9ad393020": {
      "model_module": "@jupyter-widgets/controls",
      "model_module_version": "1.5.0",
      "model_name": "ProgressStyleModel",
      "state": {
       "description_width": ""
      }
     },
     "196668adef8342068963aac7774daaeb": {
      "model_module": "@jupyter-widgets/base",
      "model_module_version": "1.2.0",
      "model_name": "LayoutModel",
      "state": {}
     },
     "1cadc9f8034044f7b258cf2b070b63d2": {
      "model_module": "@jupyter-widgets/base",
      "model_module_version": "1.2.0",
      "model_name": "LayoutModel",
      "state": {
       "display": "inline-flex",
       "flex_flow": "row wrap",
       "visibility": "hidden",
       "width": "100%"
      }
     },
     "1d9e0bed984649778b75ad58995c6303": {
      "model_module": "@jupyter-widgets/controls",
      "model_module_version": "1.5.0",
      "model_name": "DescriptionStyleModel",
      "state": {
       "description_width": ""
      }
     },
     "2073771c4406459c84f651643d54ef0d": {
      "model_module": "@jupyter-widgets/controls",
      "model_module_version": "1.5.0",
      "model_name": "DescriptionStyleModel",
      "state": {
       "description_width": ""
      }
     },
     "2261d2516e4644da86f895ebff97b060": {
      "model_module": "@jupyter-widgets/controls",
      "model_module_version": "1.5.0",
      "model_name": "HTMLModel",
      "state": {
       "layout": "IPY_MODEL_b0a328a8566648ddac6eae57559782e9",
       "style": "IPY_MODEL_1d9e0bed984649778b75ad58995c6303",
       "value": " 758/758 [07:22&lt;00:00,  1.71it/s, v_num=0, train_loss_step=8.780, val_loss=10.60, train_loss_epoch=9.800]"
      }
     },
     "24d5d51446c74b70adf524657aa3be0a": {
      "model_module": "@jupyter-widgets/controls",
      "model_module_version": "1.5.0",
      "model_name": "FloatProgressModel",
      "state": {
       "layout": "IPY_MODEL_fadd6d3ec4db456c9933edbed22b0342",
       "max": 326,
       "style": "IPY_MODEL_6e31453201ba42ab8105d52f232913e6",
       "value": 326
      }
     },
     "254756fe13e64ca5b8108c5d76d99929": {
      "model_module": "@jupyter-widgets/base",
      "model_module_version": "1.2.0",
      "model_name": "LayoutModel",
      "state": {
       "flex": "2"
      }
     },
     "25e03aeeae484253b031e025fe89e874": {
      "model_module": "@jupyter-widgets/controls",
      "model_module_version": "1.5.0",
      "model_name": "DescriptionStyleModel",
      "state": {
       "description_width": ""
      }
     },
     "26024b6b4d634f1d9d5f590f464a0271": {
      "model_module": "@jupyter-widgets/base",
      "model_module_version": "1.2.0",
      "model_name": "LayoutModel",
      "state": {}
     },
     "275c13cd9e044db7863db584613b6e7d": {
      "model_module": "@jupyter-widgets/base",
      "model_module_version": "1.2.0",
      "model_name": "LayoutModel",
      "state": {
       "flex": "2"
      }
     },
     "276554b5fc1440b496debcc21467d3f4": {
      "model_module": "@jupyter-widgets/base",
      "model_module_version": "1.2.0",
      "model_name": "LayoutModel",
      "state": {
       "display": "inline-flex",
       "flex_flow": "row wrap",
       "visibility": "hidden",
       "width": "100%"
      }
     },
     "279500e8cd7b4ddb9ca2bd278db254f9": {
      "model_module": "@jupyter-widgets/controls",
      "model_module_version": "1.5.0",
      "model_name": "ProgressStyleModel",
      "state": {
       "description_width": ""
      }
     },
     "27fc3de9eb3c4af2b5c0fa2f0e2d1198": {
      "model_module": "@jupyter-widgets/controls",
      "model_module_version": "1.5.0",
      "model_name": "FloatProgressModel",
      "state": {
       "layout": "IPY_MODEL_85b847a1400f4508a93bc82995234284",
       "max": 1,
       "style": "IPY_MODEL_a84a5a601e9747f392f0a3ccd67ef0e8"
      }
     },
     "289d49c642c94bd6b74f508510182cf6": {
      "model_module": "@jupyter-widgets/controls",
      "model_module_version": "1.5.0",
      "model_name": "FloatProgressModel",
      "state": {
       "layout": "IPY_MODEL_ddf31a4c0b7d422098f8de5f583b432e",
       "max": 1,
       "style": "IPY_MODEL_279500e8cd7b4ddb9ca2bd278db254f9"
      }
     },
     "28f227bf22414ab6b8eaae11ae995635": {
      "model_module": "@jupyter-widgets/controls",
      "model_module_version": "1.5.0",
      "model_name": "HTMLModel",
      "state": {
       "layout": "IPY_MODEL_b9e47a55b2c74bef82b8f7307bb4fc6f",
       "style": "IPY_MODEL_75e8d6fed8464f22a77a38889a33549a",
       "value": " 162/758 [01:19&lt;04:54,  2.03it/s, v_num=yvwc, train_loss_step=6.870, val_loss=10.50, train_loss_epoch=8.850]"
      }
     },
     "2ac34dfab264470bacb2b33177063af3": {
      "model_module": "@jupyter-widgets/base",
      "model_module_version": "1.2.0",
      "model_name": "LayoutModel",
      "state": {
       "flex": "2"
      }
     },
     "2ae495b7a2d24e1b83b090c1814436e4": {
      "model_module": "@jupyter-widgets/controls",
      "model_module_version": "1.5.0",
      "model_name": "DescriptionStyleModel",
      "state": {
       "description_width": ""
      }
     },
     "2b5e7eb77f2f440791aa5a151c638ebd": {
      "model_module": "@jupyter-widgets/base",
      "model_module_version": "1.2.0",
      "model_name": "LayoutModel",
      "state": {}
     },
     "2c6ed15c70b0482e9b608e1693674c26": {
      "model_module": "@jupyter-widgets/controls",
      "model_module_version": "1.5.0",
      "model_name": "DescriptionStyleModel",
      "state": {
       "description_width": ""
      }
     },
     "2cd936b806ad41b3b5247ac04f188a5c": {
      "model_module": "@jupyter-widgets/controls",
      "model_module_version": "1.5.0",
      "model_name": "FloatProgressModel",
      "state": {
       "layout": "IPY_MODEL_2d7c0ebacb6e4304a3b685aab85d9dae",
       "max": 1,
       "style": "IPY_MODEL_b0d5d56fcb1c41c1b6efdb5f16b94dd8"
      }
     },
     "2d532290210841408bbbcacd311f1ec8": {
      "model_module": "@jupyter-widgets/controls",
      "model_module_version": "1.5.0",
      "model_name": "ProgressStyleModel",
      "state": {
       "description_width": ""
      }
     },
     "2d7c0ebacb6e4304a3b685aab85d9dae": {
      "model_module": "@jupyter-widgets/base",
      "model_module_version": "1.2.0",
      "model_name": "LayoutModel",
      "state": {}
     },
     "300e8176808041c58819e1f85e4c96d5": {
      "model_module": "@jupyter-widgets/controls",
      "model_module_version": "1.5.0",
      "model_name": "DescriptionStyleModel",
      "state": {
       "description_width": ""
      }
     },
     "317a86e12a574c18b6c8defef70ca13e": {
      "model_module": "@jupyter-widgets/base",
      "model_module_version": "1.2.0",
      "model_name": "LayoutModel",
      "state": {
       "flex": "2"
      }
     },
     "3274cf4b4b6744ac98e7bd9efcfa59fd": {
      "model_module": "@jupyter-widgets/controls",
      "model_module_version": "1.5.0",
      "model_name": "FloatProgressModel",
      "state": {
       "layout": "IPY_MODEL_853e33a87fc448829651fdecf23d3fbb",
       "max": 326,
       "style": "IPY_MODEL_892c0e7875b04c8f93fedf31f2a1982a",
       "value": 326
      }
     },
     "32764ce19d19498f81216f90aeff0bc1": {
      "model_module": "@jupyter-widgets/controls",
      "model_module_version": "1.5.0",
      "model_name": "VBoxModel",
      "state": {
       "children": [
        "IPY_MODEL_7a5cbb82f2bd488d9e83791a41b73884",
        "IPY_MODEL_289d49c642c94bd6b74f508510182cf6"
       ],
       "layout": "IPY_MODEL_ae10c972d89c48b5817ca20eaf2a4cb1"
      }
     },
     "32e0e23302f447d0a2daa9844c62d0cd": {
      "model_module": "@jupyter-widgets/controls",
      "model_module_version": "1.5.0",
      "model_name": "FloatProgressModel",
      "state": {
       "layout": "IPY_MODEL_be7822d99abd4645be8be0b9f8214db0",
       "max": 326,
       "style": "IPY_MODEL_8fa0c6ccdba748d494f83a97958165c7",
       "value": 326
      }
     },
     "33ec9a8c88594a3b9a969fea386171d9": {
      "model_module": "@jupyter-widgets/controls",
      "model_module_version": "1.5.0",
      "model_name": "DescriptionStyleModel",
      "state": {
       "description_width": ""
      }
     },
     "3470cba1b8bd462d83774402327ae3d6": {
      "model_module": "@jupyter-widgets/controls",
      "model_module_version": "1.5.0",
      "model_name": "FloatProgressModel",
      "state": {
       "layout": "IPY_MODEL_06eec409427548bd996c664c44aecedf",
       "max": 326,
       "style": "IPY_MODEL_2d532290210841408bbbcacd311f1ec8",
       "value": 326
      }
     },
     "348bac188bd74b78af91cadc797bdb41": {
      "model_module": "@jupyter-widgets/controls",
      "model_module_version": "1.5.0",
      "model_name": "FloatProgressModel",
      "state": {
       "layout": "IPY_MODEL_c20791a037234851b1e6e79d2a9348a5",
       "max": 1,
       "style": "IPY_MODEL_a8e92f34c159490db0661faa43d2280b"
      }
     },
     "3569a74594c44d4b9d810affadffc0e7": {
      "model_module": "@jupyter-widgets/base",
      "model_module_version": "1.2.0",
      "model_name": "LayoutModel",
      "state": {}
     },
     "37ffeb2e52f4460f80c79686620ff717": {
      "model_module": "@jupyter-widgets/controls",
      "model_module_version": "1.5.0",
      "model_name": "ProgressStyleModel",
      "state": {
       "description_width": ""
      }
     },
     "38ed519698bf40b2bee350c5edf7d475": {
      "model_module": "@jupyter-widgets/controls",
      "model_module_version": "1.5.0",
      "model_name": "ProgressStyleModel",
      "state": {
       "description_width": ""
      }
     },
     "3905fd1556da4cb58057626b133aaf99": {
      "model_module": "@jupyter-widgets/controls",
      "model_module_version": "1.5.0",
      "model_name": "DescriptionStyleModel",
      "state": {
       "description_width": ""
      }
     },
     "3ad6351e34704f3cb7b3351a4548bf1c": {
      "model_module": "@jupyter-widgets/controls",
      "model_module_version": "1.5.0",
      "model_name": "HTMLModel",
      "state": {
       "layout": "IPY_MODEL_70c924d2acb4435ea45776a69c7c8862",
       "style": "IPY_MODEL_fbedae7c73054a5e99fbec8961c8c037",
       "value": "Validation DataLoader 0: 100%"
      }
     },
     "3afbff302cc14192adf6bbd73d542760": {
      "model_module": "@jupyter-widgets/controls",
      "model_module_version": "1.5.0",
      "model_name": "DescriptionStyleModel",
      "state": {
       "description_width": ""
      }
     },
     "3c9bcfc43be94c209d790d09bb456a23": {
      "model_module": "@jupyter-widgets/controls",
      "model_module_version": "1.5.0",
      "model_name": "HTMLModel",
      "state": {
       "layout": "IPY_MODEL_f09d8e90f7af48cbb9806fffd807bed1",
       "style": "IPY_MODEL_d0514e93116e4d7fb318f907e848a736",
       "value": "Validation DataLoader 0: 100%"
      }
     },
     "3d7673b097f945828397a762760e8bf9": {
      "model_module": "@jupyter-widgets/controls",
      "model_module_version": "1.5.0",
      "model_name": "VBoxModel",
      "state": {
       "children": [
        "IPY_MODEL_920efcdf720646da98f59688367fdf70",
        "IPY_MODEL_2cd936b806ad41b3b5247ac04f188a5c"
       ],
       "layout": "IPY_MODEL_08bf9f161b56453a80f071d82441d42c"
      }
     },
     "3e5cd4468029459096b8df0a8209bae9": {
      "model_module": "@jupyter-widgets/controls",
      "model_module_version": "1.5.0",
      "model_name": "DescriptionStyleModel",
      "state": {
       "description_width": ""
      }
     },
     "3f03f50cfff64f2cb1b40be198c8dd99": {
      "model_module": "@jupyter-widgets/base",
      "model_module_version": "1.2.0",
      "model_name": "LayoutModel",
      "state": {}
     },
     "402c72fc2dc643caaf6a2f3f1c0c9fce": {
      "model_module": "@jupyter-widgets/base",
      "model_module_version": "1.2.0",
      "model_name": "LayoutModel",
      "state": {}
     },
     "410805ba12ae48fbb07f7329f241cefc": {
      "model_module": "@jupyter-widgets/controls",
      "model_module_version": "1.5.0",
      "model_name": "HTMLModel",
      "state": {
       "layout": "IPY_MODEL_c1c3e13151964ea5a99df0f7e071772f",
       "style": "IPY_MODEL_76f3ece211a34a28adb56f3557cff600",
       "value": " 326/326 [01:13&lt;00:00,  4.43it/s]"
      }
     },
     "4120ae6a518a4025a336724262587ca7": {
      "model_module": "@jupyter-widgets/controls",
      "model_module_version": "1.5.0",
      "model_name": "DescriptionStyleModel",
      "state": {
       "description_width": ""
      }
     },
     "412d14a212ae4d538998688443f8b094": {
      "model_module": "@jupyter-widgets/controls",
      "model_module_version": "1.5.0",
      "model_name": "HTMLModel",
      "state": {
       "layout": "IPY_MODEL_3f03f50cfff64f2cb1b40be198c8dd99",
       "style": "IPY_MODEL_84eb4df42a8c495c9bf097d165c28747",
       "value": " 326/326 [01:12&lt;00:00,  4.50it/s]"
      }
     },
     "4275d5614fee4c858afd831b753cb956": {
      "model_module": "@jupyter-widgets/controls",
      "model_module_version": "1.5.0",
      "model_name": "FloatProgressModel",
      "state": {
       "layout": "IPY_MODEL_a6d2ee759f584e6fbe2d1687530a768c",
       "max": 326,
       "style": "IPY_MODEL_4873f8a38d6540bd9c38490ad6476f3c",
       "value": 326
      }
     },
     "44fc8ea62ebb4088a9323385243993a2": {
      "model_module": "@jupyter-widgets/controls",
      "model_module_version": "1.5.0",
      "model_name": "DescriptionStyleModel",
      "state": {
       "description_width": ""
      }
     },
     "45ef99635fd5452c9e816a1acbab7a65": {
      "model_module": "@jupyter-widgets/base",
      "model_module_version": "1.2.0",
      "model_name": "LayoutModel",
      "state": {
       "display": "inline-flex",
       "flex_flow": "row wrap",
       "visibility": "hidden",
       "width": "100%"
      }
     },
     "462b4707ce994d18b7e718490b050f43": {
      "model_module": "@jupyter-widgets/base",
      "model_module_version": "1.2.0",
      "model_name": "LayoutModel",
      "state": {}
     },
     "475ff0d6e67947a8adcbd7025eaad12a": {
      "model_module": "@jupyter-widgets/controls",
      "model_module_version": "1.5.0",
      "model_name": "ProgressStyleModel",
      "state": {
       "description_width": ""
      }
     },
     "4873f8a38d6540bd9c38490ad6476f3c": {
      "model_module": "@jupyter-widgets/controls",
      "model_module_version": "1.5.0",
      "model_name": "ProgressStyleModel",
      "state": {
       "description_width": ""
      }
     },
     "489f7d3d1bfd4262934c67c55069efa1": {
      "model_module": "@jupyter-widgets/base",
      "model_module_version": "1.2.0",
      "model_name": "LayoutModel",
      "state": {}
     },
     "48b82c79846d43899ece1fa8ab3265d3": {
      "model_module": "@jupyter-widgets/base",
      "model_module_version": "1.2.0",
      "model_name": "LayoutModel",
      "state": {}
     },
     "4a07694867104d408c2d9668fda633f7": {
      "model_module": "@jupyter-widgets/controls",
      "model_module_version": "1.5.0",
      "model_name": "FloatProgressModel",
      "state": {
       "layout": "IPY_MODEL_317a86e12a574c18b6c8defef70ca13e",
       "max": 758,
       "style": "IPY_MODEL_475ff0d6e67947a8adcbd7025eaad12a",
       "value": 162
      }
     },
     "4b9f46fb928044b3bb278fa3e8995364": {
      "model_module": "@jupyter-widgets/base",
      "model_module_version": "1.2.0",
      "model_name": "LayoutModel",
      "state": {}
     },
     "4dab507413194b298ca27c93b9d37481": {
      "model_module": "@jupyter-widgets/base",
      "model_module_version": "1.2.0",
      "model_name": "LayoutModel",
      "state": {}
     },
     "4e5838b1022f4f6698a280513e6580e1": {
      "model_module": "@jupyter-widgets/controls",
      "model_module_version": "1.5.0",
      "model_name": "HTMLModel",
      "state": {
       "layout": "IPY_MODEL_cdf61cd75b2d44a2a2286ea123961347",
       "style": "IPY_MODEL_a095daf2111d466cb8d3f3085fe909d0",
       "value": "Validation DataLoader 0: 100%"
      }
     },
     "513b5f35cb43427ca7f75ed85938da94": {
      "model_module": "@jupyter-widgets/controls",
      "model_module_version": "1.5.0",
      "model_name": "ProgressStyleModel",
      "state": {
       "description_width": ""
      }
     },
     "51e81b2a3df54a0e90bf3e4186da336c": {
      "model_module": "@jupyter-widgets/controls",
      "model_module_version": "1.5.0",
      "model_name": "HBoxModel",
      "state": {
       "children": [
        "IPY_MODEL_a5a549ee28404bd19b3174bc05ca41b9",
        "IPY_MODEL_4a07694867104d408c2d9668fda633f7",
        "IPY_MODEL_28f227bf22414ab6b8eaae11ae995635"
       ],
       "layout": "IPY_MODEL_7debfc058d7048cd97461c0c54148b39"
      }
     },
     "52a2000ff89740028c716c2c8313e560": {
      "model_module": "@jupyter-widgets/controls",
      "model_module_version": "1.5.0",
      "model_name": "ProgressStyleModel",
      "state": {
       "description_width": ""
      }
     },
     "5343b8a7e15842f3882dbe0fdd6439c3": {
      "model_module": "@jupyter-widgets/controls",
      "model_module_version": "1.5.0",
      "model_name": "HTMLModel",
      "state": {
       "layout": "IPY_MODEL_7f2131a579214570805b11fc01ceac77",
       "style": "IPY_MODEL_d6aa872bbfee4fa98f605ed6b3f80510",
       "value": "Validation DataLoader 0: 100%"
      }
     },
     "534fac2681d1442f99e67e5f715ed961": {
      "model_module": "@jupyter-widgets/base",
      "model_module_version": "1.2.0",
      "model_name": "LayoutModel",
      "state": {}
     },
     "536e768602fd4eec8b8b2e50dd21d861": {
      "model_module": "@jupyter-widgets/controls",
      "model_module_version": "1.5.0",
      "model_name": "HTMLModel",
      "state": {
       "layout": "IPY_MODEL_402c72fc2dc643caaf6a2f3f1c0c9fce",
       "style": "IPY_MODEL_b38daf5c2b3c48d6ae6f13e06e121aa1",
       "value": " 326/326 [01:12&lt;00:00,  4.51it/s]"
      }
     },
     "54725ae7fde34e1f800c90b9c641bb9b": {
      "model_module": "@jupyter-widgets/base",
      "model_module_version": "1.2.0",
      "model_name": "LayoutModel",
      "state": {
       "flex": "2"
      }
     },
     "57023ca0c45e4cfd90e8279d274edcf9": {
      "model_module": "@jupyter-widgets/base",
      "model_module_version": "1.2.0",
      "model_name": "LayoutModel",
      "state": {
       "flex": "2"
      }
     },
     "574a3243ed7f4deba9915b16d97fcdfb": {
      "model_module": "@jupyter-widgets/controls",
      "model_module_version": "1.5.0",
      "model_name": "FloatProgressModel",
      "state": {
       "layout": "IPY_MODEL_2ac34dfab264470bacb2b33177063af3",
       "max": 326,
       "style": "IPY_MODEL_37ffeb2e52f4460f80c79686620ff717",
       "value": 326
      }
     },
     "57f8ac9afa604826b8cd9a67d09d2b87": {
      "model_module": "@jupyter-widgets/base",
      "model_module_version": "1.2.0",
      "model_name": "LayoutModel",
      "state": {}
     },
     "5e918c4470364267b756a7b2309c7c09": {
      "model_module": "@jupyter-widgets/controls",
      "model_module_version": "1.5.0",
      "model_name": "FloatProgressModel",
      "state": {
       "bar_style": "success",
       "layout": "IPY_MODEL_07462a5c092b45199760713b3a63606b",
       "max": 758,
       "style": "IPY_MODEL_0c46d616a096446a9f5b96ab8a3ce5a2",
       "value": 758
      }
     },
     "61d031add02542d7bef3ad37a8e50517": {
      "model_module": "@jupyter-widgets/controls",
      "model_module_version": "1.5.0",
      "model_name": "FloatProgressModel",
      "state": {
       "layout": "IPY_MODEL_254756fe13e64ca5b8108c5d76d99929",
       "max": 326,
       "style": "IPY_MODEL_7327d99038444af3b7840774fd89127f",
       "value": 326
      }
     },
     "62c5781e21a44dea93dcae68fe40d630": {
      "model_module": "@jupyter-widgets/controls",
      "model_module_version": "1.5.0",
      "model_name": "DescriptionStyleModel",
      "state": {
       "description_width": ""
      }
     },
     "66c9faae0dec465c9522f5dd2fad75ac": {
      "model_module": "@jupyter-widgets/controls",
      "model_module_version": "1.5.0",
      "model_name": "DescriptionStyleModel",
      "state": {
       "description_width": ""
      }
     },
     "66faf53cd8c04bb1b46d580b7aad47a4": {
      "model_module": "@jupyter-widgets/base",
      "model_module_version": "1.2.0",
      "model_name": "LayoutModel",
      "state": {
       "flex": "2"
      }
     },
     "6a566a2385044f52ab725840dd935fe9": {
      "model_module": "@jupyter-widgets/controls",
      "model_module_version": "1.5.0",
      "model_name": "FloatProgressModel",
      "state": {
       "bar_style": "success",
       "layout": "IPY_MODEL_71e40e5561a94cbbb35ca133d5a574a5",
       "max": 326,
       "style": "IPY_MODEL_819df4020a3b448db5551522c86c1c48",
       "value": 326
      }
     },
     "6c857998b9e841bcb9ca78712a16adea": {
      "model_module": "@jupyter-widgets/base",
      "model_module_version": "1.2.0",
      "model_name": "LayoutModel",
      "state": {
       "display": "inline-flex",
       "flex_flow": "row wrap",
       "width": "100%"
      }
     },
     "6d91f3c771b8474fa92ff780114a1e89": {
      "model_module": "@jupyter-widgets/controls",
      "model_module_version": "1.5.0",
      "model_name": "DescriptionStyleModel",
      "state": {
       "description_width": ""
      }
     },
     "6e31453201ba42ab8105d52f232913e6": {
      "model_module": "@jupyter-widgets/controls",
      "model_module_version": "1.5.0",
      "model_name": "ProgressStyleModel",
      "state": {
       "description_width": ""
      }
     },
     "6e38eae6565f43a59b9ca224dc4b310c": {
      "model_module": "@jupyter-widgets/controls",
      "model_module_version": "1.5.0",
      "model_name": "DescriptionStyleModel",
      "state": {
       "description_width": ""
      }
     },
     "6e640da1f93249a89785892d5b1c53bc": {
      "model_module": "@jupyter-widgets/base",
      "model_module_version": "1.2.0",
      "model_name": "LayoutModel",
      "state": {}
     },
     "6f9137a2184d415483a0527687e2a53f": {
      "model_module": "@jupyter-widgets/controls",
      "model_module_version": "1.5.0",
      "model_name": "HTMLModel",
      "state": {
       "layout": "IPY_MODEL_f17593fbf3da448aaaf3e2ed5aaa4ecf",
       "style": "IPY_MODEL_a30b4eac123b4005985801f7b39d4f27",
       "value": " 326/326 [01:12&lt;00:00,  4.49it/s]"
      }
     },
     "6fbce3f6b005448fa4af55d73481839a": {
      "model_module": "@jupyter-widgets/controls",
      "model_module_version": "1.5.0",
      "model_name": "ProgressStyleModel",
      "state": {
       "description_width": ""
      }
     },
     "7031a2c0674d4f5e88a5de1a78dcb12b": {
      "model_module": "@jupyter-widgets/base",
      "model_module_version": "1.2.0",
      "model_name": "LayoutModel",
      "state": {
       "display": "inline-flex",
       "flex_flow": "row wrap",
       "visibility": "hidden",
       "width": "100%"
      }
     },
     "70c924d2acb4435ea45776a69c7c8862": {
      "model_module": "@jupyter-widgets/base",
      "model_module_version": "1.2.0",
      "model_name": "LayoutModel",
      "state": {}
     },
     "71e40e5561a94cbbb35ca133d5a574a5": {
      "model_module": "@jupyter-widgets/base",
      "model_module_version": "1.2.0",
      "model_name": "LayoutModel",
      "state": {
       "flex": "2"
      }
     },
     "7266e94dd6a4482aadd80149d51f200e": {
      "model_module": "@jupyter-widgets/controls",
      "model_module_version": "1.5.0",
      "model_name": "DescriptionStyleModel",
      "state": {
       "description_width": ""
      }
     },
     "7327d99038444af3b7840774fd89127f": {
      "model_module": "@jupyter-widgets/controls",
      "model_module_version": "1.5.0",
      "model_name": "ProgressStyleModel",
      "state": {
       "description_width": ""
      }
     },
     "753572e95ac44909ad4127a2a1e45f08": {
      "model_module": "@jupyter-widgets/base",
      "model_module_version": "1.2.0",
      "model_name": "LayoutModel",
      "state": {}
     },
     "7570b716489349518a4eaf0b7dffa0e5": {
      "model_module": "@jupyter-widgets/controls",
      "model_module_version": "1.5.0",
      "model_name": "HTMLModel",
      "state": {
       "layout": "IPY_MODEL_196668adef8342068963aac7774daaeb",
       "style": "IPY_MODEL_7cf77a5b8c914792917654b2dafd2b0e",
       "value": " 326/326 [00:53&lt;00:00,  6.04it/s]"
      }
     },
     "75e8d6fed8464f22a77a38889a33549a": {
      "model_module": "@jupyter-widgets/controls",
      "model_module_version": "1.5.0",
      "model_name": "DescriptionStyleModel",
      "state": {
       "description_width": ""
      }
     },
     "75ff749982e74f53b97be1213c322cea": {
      "model_module": "@jupyter-widgets/base",
      "model_module_version": "1.2.0",
      "model_name": "LayoutModel",
      "state": {}
     },
     "7622beff6f4f455e8ef9d26afcb9bf22": {
      "model_module": "@jupyter-widgets/controls",
      "model_module_version": "1.5.0",
      "model_name": "DescriptionStyleModel",
      "state": {
       "description_width": ""
      }
     },
     "76f3ece211a34a28adb56f3557cff600": {
      "model_module": "@jupyter-widgets/controls",
      "model_module_version": "1.5.0",
      "model_name": "DescriptionStyleModel",
      "state": {
       "description_width": ""
      }
     },
     "7a5cbb82f2bd488d9e83791a41b73884": {
      "model_module": "@jupyter-widgets/controls",
      "model_module_version": "1.5.0",
      "model_name": "LabelModel",
      "state": {
       "layout": "IPY_MODEL_489f7d3d1bfd4262934c67c55069efa1",
       "style": "IPY_MODEL_44fc8ea62ebb4088a9323385243993a2"
      }
     },
     "7c21dbdbce4440c5a53cf53347799e59": {
      "model_module": "@jupyter-widgets/controls",
      "model_module_version": "1.5.0",
      "model_name": "HTMLModel",
      "state": {
       "layout": "IPY_MODEL_c02f350e185a4adc98b9f92b32c2f1dc",
       "style": "IPY_MODEL_62c5781e21a44dea93dcae68fe40d630",
       "value": " 2/2 [00:01&lt;00:00,  1.24it/s]"
      }
     },
     "7cf77a5b8c914792917654b2dafd2b0e": {
      "model_module": "@jupyter-widgets/controls",
      "model_module_version": "1.5.0",
      "model_name": "DescriptionStyleModel",
      "state": {
       "description_width": ""
      }
     },
     "7debfc058d7048cd97461c0c54148b39": {
      "model_module": "@jupyter-widgets/base",
      "model_module_version": "1.2.0",
      "model_name": "LayoutModel",
      "state": {
       "display": "inline-flex",
       "flex_flow": "row wrap",
       "width": "100%"
      }
     },
     "7f2131a579214570805b11fc01ceac77": {
      "model_module": "@jupyter-widgets/base",
      "model_module_version": "1.2.0",
      "model_name": "LayoutModel",
      "state": {}
     },
     "81225b7fd5b44d56a5d196bd51cd3579": {
      "model_module": "@jupyter-widgets/controls",
      "model_module_version": "1.5.0",
      "model_name": "HTMLModel",
      "state": {
       "layout": "IPY_MODEL_48b82c79846d43899ece1fa8ab3265d3",
       "style": "IPY_MODEL_3e5cd4468029459096b8df0a8209bae9",
       "value": "Validation DataLoader 0: 100%"
      }
     },
     "81574343832e4c548b7fe4e013103edb": {
      "model_module": "@jupyter-widgets/controls",
      "model_module_version": "1.5.0",
      "model_name": "HTMLModel",
      "state": {
       "layout": "IPY_MODEL_ee296e694e0f47ff92a889f8aa4824ae",
       "style": "IPY_MODEL_ac3e590b493b462f829725767d8013b9",
       "value": "Sanity Checking DataLoader 0: 100%"
      }
     },
     "819df4020a3b448db5551522c86c1c48": {
      "model_module": "@jupyter-widgets/controls",
      "model_module_version": "1.5.0",
      "model_name": "ProgressStyleModel",
      "state": {
       "description_width": ""
      }
     },
     "84eb4df42a8c495c9bf097d165c28747": {
      "model_module": "@jupyter-widgets/controls",
      "model_module_version": "1.5.0",
      "model_name": "DescriptionStyleModel",
      "state": {
       "description_width": ""
      }
     },
     "853e33a87fc448829651fdecf23d3fbb": {
      "model_module": "@jupyter-widgets/base",
      "model_module_version": "1.2.0",
      "model_name": "LayoutModel",
      "state": {
       "flex": "2"
      }
     },
     "85b847a1400f4508a93bc82995234284": {
      "model_module": "@jupyter-widgets/base",
      "model_module_version": "1.2.0",
      "model_name": "LayoutModel",
      "state": {}
     },
     "862c4f33bbe4463682c6bc089190d568": {
      "model_module": "@jupyter-widgets/controls",
      "model_module_version": "1.5.0",
      "model_name": "HTMLModel",
      "state": {
       "layout": "IPY_MODEL_57f8ac9afa604826b8cd9a67d09d2b87",
       "style": "IPY_MODEL_c5a9034729d544a0b54095846fbe52ab",
       "value": " 326/326 [01:12&lt;00:00,  4.51it/s]"
      }
     },
     "86e81d2d902d4fdbade51a9f9064ffe5": {
      "model_module": "@jupyter-widgets/controls",
      "model_module_version": "1.5.0",
      "model_name": "FloatProgressModel",
      "state": {
       "layout": "IPY_MODEL_275c13cd9e044db7863db584613b6e7d",
       "max": 326,
       "style": "IPY_MODEL_930706dc991e4aa7b84a087d667af8ac",
       "value": 326
      }
     },
     "875ee921070042e195c29b72b0bcba1d": {
      "model_module": "@jupyter-widgets/controls",
      "model_module_version": "1.5.0",
      "model_name": "DescriptionStyleModel",
      "state": {
       "description_width": ""
      }
     },
     "8802067afcf442caa2d35f2476355672": {
      "model_module": "@jupyter-widgets/base",
      "model_module_version": "1.2.0",
      "model_name": "LayoutModel",
      "state": {
       "display": "inline-flex",
       "flex_flow": "row wrap",
       "visibility": "hidden",
       "width": "100%"
      }
     },
     "892c0e7875b04c8f93fedf31f2a1982a": {
      "model_module": "@jupyter-widgets/controls",
      "model_module_version": "1.5.0",
      "model_name": "ProgressStyleModel",
      "state": {
       "description_width": ""
      }
     },
     "8adadb4063884a0683a76b322f7b31af": {
      "model_module": "@jupyter-widgets/controls",
      "model_module_version": "1.5.0",
      "model_name": "DescriptionStyleModel",
      "state": {
       "description_width": ""
      }
     },
     "8b206e7733f94a65ad4ab24c9c93df96": {
      "model_module": "@jupyter-widgets/controls",
      "model_module_version": "1.5.0",
      "model_name": "VBoxModel",
      "state": {
       "children": [
        "IPY_MODEL_dd01564452304eafb955610b4c726c1b",
        "IPY_MODEL_348bac188bd74b78af91cadc797bdb41"
       ],
       "layout": "IPY_MODEL_062062068d6744fbaf5e3f65478695f4"
      }
     },
     "8b522061620d4a159b71a53b79b34130": {
      "model_module": "@jupyter-widgets/controls",
      "model_module_version": "1.5.0",
      "model_name": "HTMLModel",
      "state": {
       "layout": "IPY_MODEL_4dab507413194b298ca27c93b9d37481",
       "style": "IPY_MODEL_33ec9a8c88594a3b9a969fea386171d9",
       "value": "Validation DataLoader 0: 100%"
      }
     },
     "8e8a005eaff54f65ba1a8cf886f6b19a": {
      "model_module": "@jupyter-widgets/base",
      "model_module_version": "1.2.0",
      "model_name": "LayoutModel",
      "state": {
       "display": "inline-flex",
       "flex_flow": "row wrap",
       "visibility": "hidden",
       "width": "100%"
      }
     },
     "8fa0c6ccdba748d494f83a97958165c7": {
      "model_module": "@jupyter-widgets/controls",
      "model_module_version": "1.5.0",
      "model_name": "ProgressStyleModel",
      "state": {
       "description_width": ""
      }
     },
     "8fbbb54b6bd945908d3d13102ddb0a44": {
      "model_module": "@jupyter-widgets/controls",
      "model_module_version": "1.5.0",
      "model_name": "HTMLModel",
      "state": {
       "layout": "IPY_MODEL_26024b6b4d634f1d9d5f590f464a0271",
       "style": "IPY_MODEL_300e8176808041c58819e1f85e4c96d5",
       "value": "Epoch 0:  11%"
      }
     },
     "8fc3d9a462c14fe9b0a06f734637f465": {
      "model_module": "@jupyter-widgets/controls",
      "model_module_version": "1.5.0",
      "model_name": "DescriptionStyleModel",
      "state": {
       "description_width": ""
      }
     },
     "920efcdf720646da98f59688367fdf70": {
      "model_module": "@jupyter-widgets/controls",
      "model_module_version": "1.5.0",
      "model_name": "LabelModel",
      "state": {
       "layout": "IPY_MODEL_d29b7ac05a01400ea11ed1d504f4ee53",
       "style": "IPY_MODEL_8fc3d9a462c14fe9b0a06f734637f465"
      }
     },
     "930706dc991e4aa7b84a087d667af8ac": {
      "model_module": "@jupyter-widgets/controls",
      "model_module_version": "1.5.0",
      "model_name": "ProgressStyleModel",
      "state": {
       "description_width": ""
      }
     },
     "94db6f2d52684d55bebbe17acd6705fa": {
      "model_module": "@jupyter-widgets/base",
      "model_module_version": "1.2.0",
      "model_name": "LayoutModel",
      "state": {
       "display": "inline-flex",
       "flex_flow": "row wrap",
       "visibility": "hidden",
       "width": "100%"
      }
     },
     "963e58996baf499996bc1f0dee6092c2": {
      "model_module": "@jupyter-widgets/controls",
      "model_module_version": "1.5.0",
      "model_name": "HBoxModel",
      "state": {
       "children": [
        "IPY_MODEL_9cc778da53cc4b8f8db6910d72d12d29",
        "IPY_MODEL_6a566a2385044f52ab725840dd935fe9",
        "IPY_MODEL_7570b716489349518a4eaf0b7dffa0e5"
       ],
       "layout": "IPY_MODEL_db841f18357a467a96d4bbcb205cea3d"
      }
     },
     "96a398db6dcd4968a63122e43c1e2d45": {
      "model_module": "@jupyter-widgets/base",
      "model_module_version": "1.2.0",
      "model_name": "LayoutModel",
      "state": {}
     },
     "992922aef2a34a92816e852252c91b39": {
      "model_module": "@jupyter-widgets/controls",
      "model_module_version": "1.5.0",
      "model_name": "DescriptionStyleModel",
      "state": {
       "description_width": ""
      }
     },
     "9a85489a9ada482488000782a30d1286": {
      "model_module": "@jupyter-widgets/controls",
      "model_module_version": "1.5.0",
      "model_name": "HTMLModel",
      "state": {
       "layout": "IPY_MODEL_96a398db6dcd4968a63122e43c1e2d45",
       "style": "IPY_MODEL_4120ae6a518a4025a336724262587ca7",
       "value": "Validation DataLoader 0: 100%"
      }
     },
     "9c6f849d3e0d4f9fb535ab018d02e0d4": {
      "model_module": "@jupyter-widgets/controls",
      "model_module_version": "1.5.0",
      "model_name": "HTMLModel",
      "state": {
       "layout": "IPY_MODEL_af842fa24a334338b731d5c1542fd17c",
       "style": "IPY_MODEL_cbdce2d616ff4ce3a9bca2f6ed3c4381",
       "value": "Validation DataLoader 0: 100%"
      }
     },
     "9cc778da53cc4b8f8db6910d72d12d29": {
      "model_module": "@jupyter-widgets/controls",
      "model_module_version": "1.5.0",
      "model_name": "HTMLModel",
      "state": {
       "layout": "IPY_MODEL_c3eb3e61ef034919b83306459d8923c1",
       "style": "IPY_MODEL_3afbff302cc14192adf6bbd73d542760",
       "value": "Validation DataLoader 0: 100%"
      }
     },
     "9e8b2e99db334a0e97b1ba905a478cd2": {
      "model_module": "@jupyter-widgets/base",
      "model_module_version": "1.2.0",
      "model_name": "LayoutModel",
      "state": {
       "flex": "2"
      }
     },
     "a095daf2111d466cb8d3f3085fe909d0": {
      "model_module": "@jupyter-widgets/controls",
      "model_module_version": "1.5.0",
      "model_name": "DescriptionStyleModel",
      "state": {
       "description_width": ""
      }
     },
     "a1425ad0d4ed4852b82b06b1e02b7c1a": {
      "model_module": "@jupyter-widgets/controls",
      "model_module_version": "1.5.0",
      "model_name": "HTMLModel",
      "state": {
       "layout": "IPY_MODEL_1044fd5c20e741fdaa4b4821aa059028",
       "style": "IPY_MODEL_f1a730bd386e463d8ddb91cad618cbd9",
       "value": "Validation DataLoader 0: 100%"
      }
     },
     "a170a5f7edb94c9d86b8ad47ca28298b": {
      "model_module": "@jupyter-widgets/controls",
      "model_module_version": "1.5.0",
      "model_name": "DescriptionStyleModel",
      "state": {
       "description_width": ""
      }
     },
     "a247d5ca20d84396a763e94ee40c11bd": {
      "model_module": "@jupyter-widgets/base",
      "model_module_version": "1.2.0",
      "model_name": "LayoutModel",
      "state": {}
     },
     "a2d1db11efbd4a7cbba9ca4d73a331c1": {
      "model_module": "@jupyter-widgets/controls",
      "model_module_version": "1.5.0",
      "model_name": "DescriptionStyleModel",
      "state": {
       "description_width": ""
      }
     },
     "a30b4eac123b4005985801f7b39d4f27": {
      "model_module": "@jupyter-widgets/controls",
      "model_module_version": "1.5.0",
      "model_name": "DescriptionStyleModel",
      "state": {
       "description_width": ""
      }
     },
     "a5a549ee28404bd19b3174bc05ca41b9": {
      "model_module": "@jupyter-widgets/controls",
      "model_module_version": "1.5.0",
      "model_name": "HTMLModel",
      "state": {
       "layout": "IPY_MODEL_d688c08fecb14a3795cfe774be7a1a02",
       "style": "IPY_MODEL_2c6ed15c70b0482e9b608e1693674c26",
       "value": "Epoch 8:  21%"
      }
     },
     "a6011e6fcc6d406bba68d74203d8568c": {
      "model_module": "@jupyter-widgets/controls",
      "model_module_version": "1.5.0",
      "model_name": "DescriptionStyleModel",
      "state": {
       "description_width": ""
      }
     },
     "a6d2ee759f584e6fbe2d1687530a768c": {
      "model_module": "@jupyter-widgets/base",
      "model_module_version": "1.2.0",
      "model_name": "LayoutModel",
      "state": {
       "flex": "2"
      }
     },
     "a84a5a601e9747f392f0a3ccd67ef0e8": {
      "model_module": "@jupyter-widgets/controls",
      "model_module_version": "1.5.0",
      "model_name": "ProgressStyleModel",
      "state": {
       "description_width": ""
      }
     },
     "a8e92f34c159490db0661faa43d2280b": {
      "model_module": "@jupyter-widgets/controls",
      "model_module_version": "1.5.0",
      "model_name": "ProgressStyleModel",
      "state": {
       "description_width": ""
      }
     },
     "a95575d776df43cebcde2f0c65ed6df1": {
      "model_module": "@jupyter-widgets/controls",
      "model_module_version": "1.5.0",
      "model_name": "HTMLModel",
      "state": {
       "layout": "IPY_MODEL_15b86757edd14074907f97941fb64aa3",
       "style": "IPY_MODEL_f54fad71bd2f429e8a096a0f9a9c486b",
       "value": " 160/1516 [00:44&lt;06:18,  3.59it/s, v_num=d9dq, train_loss_step=14.00]"
      }
     },
     "ab6f2b563e3745f4974e0fe1453fc3d4": {
      "model_module": "@jupyter-widgets/base",
      "model_module_version": "1.2.0",
      "model_name": "LayoutModel",
      "state": {
       "flex": "2"
      }
     },
     "abdec34198ad4e6eb4e090ff3735d7c7": {
      "model_module": "@jupyter-widgets/base",
      "model_module_version": "1.2.0",
      "model_name": "LayoutModel",
      "state": {}
     },
     "ac136d6c4c65402488c97998967ea4c6": {
      "model_module": "@jupyter-widgets/base",
      "model_module_version": "1.2.0",
      "model_name": "LayoutModel",
      "state": {}
     },
     "ac3e590b493b462f829725767d8013b9": {
      "model_module": "@jupyter-widgets/controls",
      "model_module_version": "1.5.0",
      "model_name": "DescriptionStyleModel",
      "state": {
       "description_width": ""
      }
     },
     "ad7f0daae25b4b82b8749e7cadaec19e": {
      "model_module": "@jupyter-widgets/controls",
      "model_module_version": "1.5.0",
      "model_name": "FloatProgressModel",
      "state": {
       "layout": "IPY_MODEL_66faf53cd8c04bb1b46d580b7aad47a4",
       "max": 326,
       "style": "IPY_MODEL_e00165cde976406faca24300d80cc689",
       "value": 326
      }
     },
     "ae10c972d89c48b5817ca20eaf2a4cb1": {
      "model_module": "@jupyter-widgets/base",
      "model_module_version": "1.2.0",
      "model_name": "LayoutModel",
      "state": {}
     },
     "af4332454fee4ceb837c501e7b11238d": {
      "model_module": "@jupyter-widgets/controls",
      "model_module_version": "1.5.0",
      "model_name": "LabelModel",
      "state": {
       "layout": "IPY_MODEL_534fac2681d1442f99e67e5f715ed961",
       "style": "IPY_MODEL_7266e94dd6a4482aadd80149d51f200e"
      }
     },
     "af842fa24a334338b731d5c1542fd17c": {
      "model_module": "@jupyter-widgets/base",
      "model_module_version": "1.2.0",
      "model_name": "LayoutModel",
      "state": {}
     },
     "b07a98d63932429e9e9fd6edbef50c49": {
      "model_module": "@jupyter-widgets/base",
      "model_module_version": "1.2.0",
      "model_name": "LayoutModel",
      "state": {
       "flex": "2"
      }
     },
     "b0a328a8566648ddac6eae57559782e9": {
      "model_module": "@jupyter-widgets/base",
      "model_module_version": "1.2.0",
      "model_name": "LayoutModel",
      "state": {}
     },
     "b0d5d56fcb1c41c1b6efdb5f16b94dd8": {
      "model_module": "@jupyter-widgets/controls",
      "model_module_version": "1.5.0",
      "model_name": "ProgressStyleModel",
      "state": {
       "description_width": ""
      }
     },
     "b1d876ff50854cbf8a2c64d98104a840": {
      "model_module": "@jupyter-widgets/base",
      "model_module_version": "1.2.0",
      "model_name": "LayoutModel",
      "state": {}
     },
     "b21446e02d434724b918213d7bb38a7b": {
      "model_module": "@jupyter-widgets/controls",
      "model_module_version": "1.5.0",
      "model_name": "HTMLModel",
      "state": {
       "layout": "IPY_MODEL_a247d5ca20d84396a763e94ee40c11bd",
       "style": "IPY_MODEL_6d91f3c771b8474fa92ff780114a1e89",
       "value": "Validation DataLoader 0: 100%"
      }
     },
     "b38daf5c2b3c48d6ae6f13e06e121aa1": {
      "model_module": "@jupyter-widgets/controls",
      "model_module_version": "1.5.0",
      "model_name": "DescriptionStyleModel",
      "state": {
       "description_width": ""
      }
     },
     "b4a8248a01cc4028b7a43784a71e1c63": {
      "model_module": "@jupyter-widgets/controls",
      "model_module_version": "1.5.0",
      "model_name": "FloatProgressModel",
      "state": {
       "layout": "IPY_MODEL_57023ca0c45e4cfd90e8279d274edcf9",
       "max": 326,
       "style": "IPY_MODEL_193e98656bf84b38abea26c9ad393020",
       "value": 326
      }
     },
     "b70a41bfba1b43eea85b406a3861fb5b": {
      "model_module": "@jupyter-widgets/controls",
      "model_module_version": "1.5.0",
      "model_name": "HTMLModel",
      "state": {
       "layout": "IPY_MODEL_753572e95ac44909ad4127a2a1e45f08",
       "style": "IPY_MODEL_a170a5f7edb94c9d86b8ad47ca28298b",
       "value": " 326/326 [01:12&lt;00:00,  4.51it/s]"
      }
     },
     "b815fec8b98f4264882a6024669b1a3f": {
      "model_module": "@jupyter-widgets/base",
      "model_module_version": "1.2.0",
      "model_name": "LayoutModel",
      "state": {
       "flex": "2"
      }
     },
     "b9e47a55b2c74bef82b8f7307bb4fc6f": {
      "model_module": "@jupyter-widgets/base",
      "model_module_version": "1.2.0",
      "model_name": "LayoutModel",
      "state": {}
     },
     "ba14d5e88fd943babf1cf65519188ec3": {
      "model_module": "@jupyter-widgets/controls",
      "model_module_version": "1.5.0",
      "model_name": "HTMLModel",
      "state": {
       "layout": "IPY_MODEL_baa6adf41d294024a8f3ce65e547b408",
       "style": "IPY_MODEL_a6011e6fcc6d406bba68d74203d8568c",
       "value": "Validation DataLoader 0: 100%"
      }
     },
     "ba5ec542203847a49e4cecf241d1cad6": {
      "model_module": "@jupyter-widgets/base",
      "model_module_version": "1.2.0",
      "model_name": "LayoutModel",
      "state": {
       "display": "inline-flex",
       "flex_flow": "row wrap",
       "visibility": "hidden",
       "width": "100%"
      }
     },
     "baa6adf41d294024a8f3ce65e547b408": {
      "model_module": "@jupyter-widgets/base",
      "model_module_version": "1.2.0",
      "model_name": "LayoutModel",
      "state": {}
     },
     "bdeb5964947141b79e347cd840d1648c": {
      "model_module": "@jupyter-widgets/controls",
      "model_module_version": "1.5.0",
      "model_name": "HTMLModel",
      "state": {
       "layout": "IPY_MODEL_cb39b282793444829ed8361999c79400",
       "style": "IPY_MODEL_e391fc3640d34edb92981fc462b9979a",
       "value": " 326/326 [01:15&lt;00:00,  4.32it/s]"
      }
     },
     "be7822d99abd4645be8be0b9f8214db0": {
      "model_module": "@jupyter-widgets/base",
      "model_module_version": "1.2.0",
      "model_name": "LayoutModel",
      "state": {
       "flex": "2"
      }
     },
     "bf43aa3d861a4008a29f727f64911bb1": {
      "model_module": "@jupyter-widgets/controls",
      "model_module_version": "1.5.0",
      "model_name": "HTMLModel",
      "state": {
       "layout": "IPY_MODEL_462b4707ce994d18b7e718490b050f43",
       "style": "IPY_MODEL_992922aef2a34a92816e852252c91b39",
       "value": " 2/2 [00:01&lt;00:00,  1.02it/s]"
      }
     },
     "bfc589a961e6466388448d5e26b8bdbe": {
      "model_module": "@jupyter-widgets/base",
      "model_module_version": "1.2.0",
      "model_name": "LayoutModel",
      "state": {
       "flex": "2"
      }
     },
     "bfee58d0fbef439c86e9524d4cd282e8": {
      "model_module": "@jupyter-widgets/controls",
      "model_module_version": "1.5.0",
      "model_name": "DescriptionStyleModel",
      "state": {
       "description_width": ""
      }
     },
     "c02f350e185a4adc98b9f92b32c2f1dc": {
      "model_module": "@jupyter-widgets/base",
      "model_module_version": "1.2.0",
      "model_name": "LayoutModel",
      "state": {}
     },
     "c1c3e13151964ea5a99df0f7e071772f": {
      "model_module": "@jupyter-widgets/base",
      "model_module_version": "1.2.0",
      "model_name": "LayoutModel",
      "state": {}
     },
     "c20791a037234851b1e6e79d2a9348a5": {
      "model_module": "@jupyter-widgets/base",
      "model_module_version": "1.2.0",
      "model_name": "LayoutModel",
      "state": {}
     },
     "c3eb3e61ef034919b83306459d8923c1": {
      "model_module": "@jupyter-widgets/base",
      "model_module_version": "1.2.0",
      "model_name": "LayoutModel",
      "state": {}
     },
     "c4b33861a724490580c0636a380aaee1": {
      "model_module": "@jupyter-widgets/controls",
      "model_module_version": "1.5.0",
      "model_name": "HTMLModel",
      "state": {
       "layout": "IPY_MODEL_f930c4d2b9c9449e9ae3a8b06be2c938",
       "style": "IPY_MODEL_25e03aeeae484253b031e025fe89e874",
       "value": "Epoch 5: 100%"
      }
     },
     "c5277611712d41179ac204e5ff8cac8c": {
      "model_module": "@jupyter-widgets/controls",
      "model_module_version": "1.5.0",
      "model_name": "FloatProgressModel",
      "state": {
       "layout": "IPY_MODEL_b815fec8b98f4264882a6024669b1a3f",
       "max": 1516,
       "style": "IPY_MODEL_513b5f35cb43427ca7f75ed85938da94",
       "value": 160
      }
     },
     "c5a9034729d544a0b54095846fbe52ab": {
      "model_module": "@jupyter-widgets/controls",
      "model_module_version": "1.5.0",
      "model_name": "DescriptionStyleModel",
      "state": {
       "description_width": ""
      }
     },
     "c601dc72a5044138b0f8df34285e5d8e": {
      "model_module": "@jupyter-widgets/controls",
      "model_module_version": "1.5.0",
      "model_name": "HTMLModel",
      "state": {
       "layout": "IPY_MODEL_2b5e7eb77f2f440791aa5a151c638ebd",
       "style": "IPY_MODEL_f450d2c4c75b48c0ac9dbcb9aa45a473",
       "value": "Validation DataLoader 0: 100%"
      }
     },
     "c6a70092f5674959b72e3bb057385804": {
      "model_module": "@jupyter-widgets/controls",
      "model_module_version": "1.5.0",
      "model_name": "FloatProgressModel",
      "state": {
       "layout": "IPY_MODEL_b07a98d63932429e9e9fd6edbef50c49",
       "max": 326,
       "style": "IPY_MODEL_52a2000ff89740028c716c2c8313e560",
       "value": 326
      }
     },
     "c73f55aa3e1b4b87ad9aae765e3fbad4": {
      "model_module": "@jupyter-widgets/controls",
      "model_module_version": "1.5.0",
      "model_name": "HTMLModel",
      "state": {
       "layout": "IPY_MODEL_4b9f46fb928044b3bb278fa3e8995364",
       "style": "IPY_MODEL_3905fd1556da4cb58057626b133aaf99",
       "value": " 326/326 [01:14&lt;00:00,  4.39it/s]"
      }
     },
     "c8dc378fd02645518c67cd73bb17b41e": {
      "model_module": "@jupyter-widgets/base",
      "model_module_version": "1.2.0",
      "model_name": "LayoutModel",
      "state": {}
     },
     "ca88f972c2ad44e3a59bf7c32b1590ce": {
      "model_module": "@jupyter-widgets/controls",
      "model_module_version": "1.5.0",
      "model_name": "HTMLModel",
      "state": {
       "layout": "IPY_MODEL_3569a74594c44d4b9d810affadffc0e7",
       "style": "IPY_MODEL_2073771c4406459c84f651643d54ef0d",
       "value": "Sanity Checking DataLoader 0: 100%"
      }
     },
     "cb39b282793444829ed8361999c79400": {
      "model_module": "@jupyter-widgets/base",
      "model_module_version": "1.2.0",
      "model_name": "LayoutModel",
      "state": {}
     },
     "cbdce2d616ff4ce3a9bca2f6ed3c4381": {
      "model_module": "@jupyter-widgets/controls",
      "model_module_version": "1.5.0",
      "model_name": "DescriptionStyleModel",
      "state": {
       "description_width": ""
      }
     },
     "ccde8128a5dc471aaf841a3db78b6e60": {
      "model_module": "@jupyter-widgets/controls",
      "model_module_version": "1.5.0",
      "model_name": "FloatProgressModel",
      "state": {
       "layout": "IPY_MODEL_fe3b73304da4476c9675fc8e1f618116",
       "max": 2,
       "style": "IPY_MODEL_e79e3186eb0d406d9d7fcf828dcd0ff2",
       "value": 2
      }
     },
     "cdaba603bc8740e2974e6637e35578d9": {
      "model_module": "@jupyter-widgets/controls",
      "model_module_version": "1.5.0",
      "model_name": "FloatProgressModel",
      "state": {
       "layout": "IPY_MODEL_ab6f2b563e3745f4974e0fe1453fc3d4",
       "max": 326,
       "style": "IPY_MODEL_d01fe3c54bf540eb8b3ebef328cc5c15",
       "value": 326
      }
     },
     "cdf61cd75b2d44a2a2286ea123961347": {
      "model_module": "@jupyter-widgets/base",
      "model_module_version": "1.2.0",
      "model_name": "LayoutModel",
      "state": {}
     },
     "ce7b10ad50c946eba4271bee54243dbb": {
      "model_module": "@jupyter-widgets/base",
      "model_module_version": "1.2.0",
      "model_name": "LayoutModel",
      "state": {
       "display": "inline-flex",
       "flex_flow": "row wrap",
       "visibility": "hidden",
       "width": "100%"
      }
     },
     "cf9d027e8de04e58b041f54b4fbca38a": {
      "model_module": "@jupyter-widgets/controls",
      "model_module_version": "1.5.0",
      "model_name": "FloatProgressModel",
      "state": {
       "layout": "IPY_MODEL_bfc589a961e6466388448d5e26b8bdbe",
       "max": 326,
       "style": "IPY_MODEL_38ed519698bf40b2bee350c5edf7d475",
       "value": 326
      }
     },
     "d01fe3c54bf540eb8b3ebef328cc5c15": {
      "model_module": "@jupyter-widgets/controls",
      "model_module_version": "1.5.0",
      "model_name": "ProgressStyleModel",
      "state": {
       "description_width": ""
      }
     },
     "d0514e93116e4d7fb318f907e848a736": {
      "model_module": "@jupyter-widgets/controls",
      "model_module_version": "1.5.0",
      "model_name": "DescriptionStyleModel",
      "state": {
       "description_width": ""
      }
     },
     "d29b7ac05a01400ea11ed1d504f4ee53": {
      "model_module": "@jupyter-widgets/base",
      "model_module_version": "1.2.0",
      "model_name": "LayoutModel",
      "state": {}
     },
     "d44e787c3c5040f59ead3f00b971e6a6": {
      "model_module": "@jupyter-widgets/base",
      "model_module_version": "1.2.0",
      "model_name": "LayoutModel",
      "state": {
       "display": "inline-flex",
       "flex_flow": "row wrap",
       "visibility": "hidden",
       "width": "100%"
      }
     },
     "d4b15ef4352a45bbbe4667c0a8aea1fb": {
      "model_module": "@jupyter-widgets/controls",
      "model_module_version": "1.5.0",
      "model_name": "HTMLModel",
      "state": {
       "layout": "IPY_MODEL_fcbe18ec9e9540cb89ca4b492fc1496a",
       "style": "IPY_MODEL_055c9c2e1018417ab114840466bd1c11",
       "value": "Sanity Checking DataLoader 0: 100%"
      }
     },
     "d688c08fecb14a3795cfe774be7a1a02": {
      "model_module": "@jupyter-widgets/base",
      "model_module_version": "1.2.0",
      "model_name": "LayoutModel",
      "state": {}
     },
     "d6aa872bbfee4fa98f605ed6b3f80510": {
      "model_module": "@jupyter-widgets/controls",
      "model_module_version": "1.5.0",
      "model_name": "DescriptionStyleModel",
      "state": {
       "description_width": ""
      }
     },
     "d75859de1dae46879f04c02ef861df2e": {
      "model_module": "@jupyter-widgets/controls",
      "model_module_version": "1.5.0",
      "model_name": "DescriptionStyleModel",
      "state": {
       "description_width": ""
      }
     },
     "d789af97052347a1919691b3287e34d2": {
      "model_module": "@jupyter-widgets/controls",
      "model_module_version": "1.5.0",
      "model_name": "HTMLModel",
      "state": {
       "layout": "IPY_MODEL_6e640da1f93249a89785892d5b1c53bc",
       "style": "IPY_MODEL_7622beff6f4f455e8ef9d26afcb9bf22",
       "value": " 326/326 [01:13&lt;00:00,  4.46it/s]"
      }
     },
     "d886be4207644a4db7d97371c92c0aa3": {
      "model_module": "@jupyter-widgets/controls",
      "model_module_version": "1.5.0",
      "model_name": "ProgressStyleModel",
      "state": {
       "description_width": ""
      }
     },
     "d89ec783704c4b84ac252f3c25de18e8": {
      "model_module": "@jupyter-widgets/controls",
      "model_module_version": "1.5.0",
      "model_name": "HTMLModel",
      "state": {
       "layout": "IPY_MODEL_fdce9b670b074051bbe83a7b72d8c127",
       "style": "IPY_MODEL_8adadb4063884a0683a76b322f7b31af",
       "value": " 2/2 [00:03&lt;00:00,  1.90s/it]"
      }
     },
     "db841f18357a467a96d4bbcb205cea3d": {
      "model_module": "@jupyter-widgets/base",
      "model_module_version": "1.2.0",
      "model_name": "LayoutModel",
      "state": {
       "display": "inline-flex",
       "flex_flow": "row wrap",
       "width": "100%"
      }
     },
     "dd01564452304eafb955610b4c726c1b": {
      "model_module": "@jupyter-widgets/controls",
      "model_module_version": "1.5.0",
      "model_name": "LabelModel",
      "state": {
       "layout": "IPY_MODEL_e5f2aa6b173b448897713e3049e47215",
       "style": "IPY_MODEL_2ae495b7a2d24e1b83b090c1814436e4"
      }
     },
     "ddf31a4c0b7d422098f8de5f583b432e": {
      "model_module": "@jupyter-widgets/base",
      "model_module_version": "1.2.0",
      "model_name": "LayoutModel",
      "state": {}
     },
     "deed824f90ea484e8686ba648992a024": {
      "model_module": "@jupyter-widgets/controls",
      "model_module_version": "1.5.0",
      "model_name": "HBoxModel",
      "state": {
       "children": [
        "IPY_MODEL_c4b33861a724490580c0636a380aaee1",
        "IPY_MODEL_5e918c4470364267b756a7b2309c7c09",
        "IPY_MODEL_2261d2516e4644da86f895ebff97b060"
       ],
       "layout": "IPY_MODEL_6c857998b9e841bcb9ca78712a16adea"
      }
     },
     "dfcaf0221de1429e9e431f3a88fcfbc4": {
      "model_module": "@jupyter-widgets/controls",
      "model_module_version": "1.5.0",
      "model_name": "FloatProgressModel",
      "state": {
       "layout": "IPY_MODEL_9e8b2e99db334a0e97b1ba905a478cd2",
       "max": 2,
       "style": "IPY_MODEL_d886be4207644a4db7d97371c92c0aa3",
       "value": 2
      }
     },
     "e00165cde976406faca24300d80cc689": {
      "model_module": "@jupyter-widgets/controls",
      "model_module_version": "1.5.0",
      "model_name": "ProgressStyleModel",
      "state": {
       "description_width": ""
      }
     },
     "e3400627a1bf4d51b4d46b6d356ba5f5": {
      "model_module": "@jupyter-widgets/base",
      "model_module_version": "1.2.0",
      "model_name": "LayoutModel",
      "state": {
       "flex": "2"
      }
     },
     "e391fc3640d34edb92981fc462b9979a": {
      "model_module": "@jupyter-widgets/controls",
      "model_module_version": "1.5.0",
      "model_name": "DescriptionStyleModel",
      "state": {
       "description_width": ""
      }
     },
     "e3d83d7aedd04fe5b729016d0e317500": {
      "model_module": "@jupyter-widgets/controls",
      "model_module_version": "1.5.0",
      "model_name": "HTMLModel",
      "state": {
       "layout": "IPY_MODEL_ac136d6c4c65402488c97998967ea4c6",
       "style": "IPY_MODEL_d75859de1dae46879f04c02ef861df2e",
       "value": " 326/326 [01:13&lt;00:00,  4.46it/s]"
      }
     },
     "e5f2aa6b173b448897713e3049e47215": {
      "model_module": "@jupyter-widgets/base",
      "model_module_version": "1.2.0",
      "model_name": "LayoutModel",
      "state": {}
     },
     "e78fde417f3b4bab9c6493a5796aa774": {
      "model_module": "@jupyter-widgets/base",
      "model_module_version": "1.2.0",
      "model_name": "LayoutModel",
      "state": {
       "display": "inline-flex",
       "flex_flow": "row wrap",
       "visibility": "hidden",
       "width": "100%"
      }
     },
     "e79e3186eb0d406d9d7fcf828dcd0ff2": {
      "model_module": "@jupyter-widgets/controls",
      "model_module_version": "1.5.0",
      "model_name": "ProgressStyleModel",
      "state": {
       "description_width": ""
      }
     },
     "ecd91858d7bc4ace88719050d6d8eed2": {
      "model_module": "@jupyter-widgets/base",
      "model_module_version": "1.2.0",
      "model_name": "LayoutModel",
      "state": {
       "display": "inline-flex",
       "flex_flow": "row wrap",
       "width": "100%"
      }
     },
     "ed123514ecf9404a885602e8d66e49bc": {
      "model_module": "@jupyter-widgets/base",
      "model_module_version": "1.2.0",
      "model_name": "LayoutModel",
      "state": {}
     },
     "ee296e694e0f47ff92a889f8aa4824ae": {
      "model_module": "@jupyter-widgets/base",
      "model_module_version": "1.2.0",
      "model_name": "LayoutModel",
      "state": {}
     },
     "eefcfbcafa1f4511b60802381be1d353": {
      "model_module": "@jupyter-widgets/controls",
      "model_module_version": "1.5.0",
      "model_name": "VBoxModel",
      "state": {
       "children": [
        "IPY_MODEL_af4332454fee4ceb837c501e7b11238d",
        "IPY_MODEL_27fc3de9eb3c4af2b5c0fa2f0e2d1198"
       ],
       "layout": "IPY_MODEL_ed123514ecf9404a885602e8d66e49bc"
      }
     },
     "f09d8e90f7af48cbb9806fffd807bed1": {
      "model_module": "@jupyter-widgets/base",
      "model_module_version": "1.2.0",
      "model_name": "LayoutModel",
      "state": {}
     },
     "f16e7099d9dd4e7b8edab73842be5fb6": {
      "model_module": "@jupyter-widgets/base",
      "model_module_version": "1.2.0",
      "model_name": "LayoutModel",
      "state": {
       "display": "inline-flex",
       "flex_flow": "row wrap",
       "visibility": "hidden",
       "width": "100%"
      }
     },
     "f17593fbf3da448aaaf3e2ed5aaa4ecf": {
      "model_module": "@jupyter-widgets/base",
      "model_module_version": "1.2.0",
      "model_name": "LayoutModel",
      "state": {}
     },
     "f1a730bd386e463d8ddb91cad618cbd9": {
      "model_module": "@jupyter-widgets/controls",
      "model_module_version": "1.5.0",
      "model_name": "DescriptionStyleModel",
      "state": {
       "description_width": ""
      }
     },
     "f27c105d462f4b00a15e966152365da2": {
      "model_module": "@jupyter-widgets/controls",
      "model_module_version": "1.5.0",
      "model_name": "HTMLModel",
      "state": {
       "layout": "IPY_MODEL_abdec34198ad4e6eb4e090ff3735d7c7",
       "style": "IPY_MODEL_875ee921070042e195c29b72b0bcba1d",
       "value": " 326/326 [01:13&lt;00:00,  4.46it/s]"
      }
     },
     "f450d2c4c75b48c0ac9dbcb9aa45a473": {
      "model_module": "@jupyter-widgets/controls",
      "model_module_version": "1.5.0",
      "model_name": "DescriptionStyleModel",
      "state": {
       "description_width": ""
      }
     },
     "f54fad71bd2f429e8a096a0f9a9c486b": {
      "model_module": "@jupyter-widgets/controls",
      "model_module_version": "1.5.0",
      "model_name": "DescriptionStyleModel",
      "state": {
       "description_width": ""
      }
     },
     "f930c4d2b9c9449e9ae3a8b06be2c938": {
      "model_module": "@jupyter-widgets/base",
      "model_module_version": "1.2.0",
      "model_name": "LayoutModel",
      "state": {}
     },
     "fadd6d3ec4db456c9933edbed22b0342": {
      "model_module": "@jupyter-widgets/base",
      "model_module_version": "1.2.0",
      "model_name": "LayoutModel",
      "state": {
       "flex": "2"
      }
     },
     "fbbcaab178a14752b087e252dec884db": {
      "model_module": "@jupyter-widgets/controls",
      "model_module_version": "1.5.0",
      "model_name": "FloatProgressModel",
      "state": {
       "layout": "IPY_MODEL_54725ae7fde34e1f800c90b9c641bb9b",
       "max": 2,
       "style": "IPY_MODEL_fff37ab6e7224b92a4d7772f1a744a78",
       "value": 2
      }
     },
     "fbedae7c73054a5e99fbec8961c8c037": {
      "model_module": "@jupyter-widgets/controls",
      "model_module_version": "1.5.0",
      "model_name": "DescriptionStyleModel",
      "state": {
       "description_width": ""
      }
     },
     "fcbe18ec9e9540cb89ca4b492fc1496a": {
      "model_module": "@jupyter-widgets/base",
      "model_module_version": "1.2.0",
      "model_name": "LayoutModel",
      "state": {}
     },
     "fdce9b670b074051bbe83a7b72d8c127": {
      "model_module": "@jupyter-widgets/base",
      "model_module_version": "1.2.0",
      "model_name": "LayoutModel",
      "state": {}
     },
     "fe3b73304da4476c9675fc8e1f618116": {
      "model_module": "@jupyter-widgets/base",
      "model_module_version": "1.2.0",
      "model_name": "LayoutModel",
      "state": {
       "flex": "2"
      }
     },
     "ff4fe303b0724b7c8a59b6ee298213f2": {
      "model_module": "@jupyter-widgets/base",
      "model_module_version": "1.2.0",
      "model_name": "LayoutModel",
      "state": {}
     },
     "fff37ab6e7224b92a4d7772f1a744a78": {
      "model_module": "@jupyter-widgets/controls",
      "model_module_version": "1.5.0",
      "model_name": "ProgressStyleModel",
      "state": {
       "description_width": ""
      }
     }
    },
    "version_major": 2,
    "version_minor": 0
   }
  }
 },
 "nbformat": 4,
 "nbformat_minor": 5
}
